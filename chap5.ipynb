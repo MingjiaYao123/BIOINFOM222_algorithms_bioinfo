{
 "cells": [
  {
   "cell_type": "code",
   "execution_count": 1,
   "metadata": {},
   "outputs": [],
   "source": [
    "#q 5.3"
   ]
  },
  {
   "cell_type": "code",
   "execution_count": 2,
   "metadata": {},
   "outputs": [],
   "source": [
    "def factorial(n):\n",
    "    if n == 0:\n",
    "        return 1\n",
    "    else:\n",
    "        return n * factorial(n-1)"
   ]
  },
  {
   "cell_type": "code",
   "execution_count": 3,
   "metadata": {},
   "outputs": [
    {
     "data": {
      "text/plain": [
       "30421755.0"
      ]
     },
     "execution_count": 3,
     "metadata": {},
     "output_type": "execute_result"
    }
   ],
   "source": [
    "factorial(28)/(factorial(16)*factorial(12))"
   ]
  },
  {
   "cell_type": "code",
   "execution_count": 4,
   "metadata": {},
   "outputs": [],
   "source": [
    "#q 5.5.1"
   ]
  },
  {
   "cell_type": "code",
   "execution_count": 8,
   "metadata": {},
   "outputs": [],
   "source": [
    "def MinNumCoins(m):\n",
    "    if m==0:\n",
    "        return 0\n",
    "    if m==1:\n",
    "        return 1\n",
    "    if m==2:\n",
    "        return 2\n",
    "    if m==3:\n",
    "        return 3\n",
    "    if m==4:\n",
    "        return 1\n",
    "    if m>=5:\n",
    "        return min(MinNumCoins(m-1)+1,MinNumCoins(m-4)+1,MinNumCoins(m-5)+1)"
   ]
  },
  {
   "cell_type": "code",
   "execution_count": 12,
   "metadata": {},
   "outputs": [
    {
     "data": {
      "text/plain": [
       "3"
      ]
     },
     "execution_count": 12,
     "metadata": {},
     "output_type": "execute_result"
    }
   ],
   "source": [
    "MinNumCoins(12)"
   ]
  },
  {
   "cell_type": "code",
   "execution_count": 15,
   "metadata": {},
   "outputs": [
    {
     "data": {
      "text/plain": [
       "'3 3 3 4 4 4 4 4 5 5 '"
      ]
     },
     "execution_count": 15,
     "metadata": {},
     "output_type": "execute_result"
    }
   ],
   "source": [
    "ret=''\n",
    "for i in range(13,23):\n",
    "    ret=ret+str(MinNumCoins(i))+' '\n",
    "ret"
   ]
  },
  {
   "cell_type": "code",
   "execution_count": 16,
   "metadata": {},
   "outputs": [],
   "source": [
    "#q 5.5.2"
   ]
  },
  {
   "cell_type": "code",
   "execution_count": 22,
   "metadata": {},
   "outputs": [],
   "source": [
    "def dpchange(money,coins):\n",
    "    MinNumCoins=[0]\n",
    "    for m in range (1,money+1):\n",
    "        MinNumCoins.append(10000)\n",
    "        for i in range(0,len(coins)):\n",
    "            if m >= coins[i]:\n",
    "                if MinNumCoins[m-coins[i]]+1<MinNumCoins[m]:\n",
    "                    MinNumCoins[m]=MinNumCoins[m-coins[i]]+1\n",
    "    return MinNumCoins[money]"
   ]
  },
  {
   "cell_type": "code",
   "execution_count": 24,
   "metadata": {},
   "outputs": [
    {
     "data": {
      "text/plain": [
       "820"
      ]
     },
     "execution_count": 24,
     "metadata": {},
     "output_type": "execute_result"
    }
   ],
   "source": [
    "dpchange(17972,[22,5,3,1])"
   ]
  },
  {
   "cell_type": "code",
   "execution_count": 25,
   "metadata": {},
   "outputs": [],
   "source": [
    "#q 5.6"
   ]
  },
  {
   "cell_type": "code",
   "execution_count": 87,
   "metadata": {},
   "outputs": [],
   "source": [
    "import numpy as np\n",
    "def ManhattanTourist(n, m, Down, Right):\n",
    "    array=np.zeros(((n+1),(m+1)))\n",
    "    for i in range(1,n+1):\n",
    "        array[i,0] = array[i-1,0]+down[i-1,0]\n",
    "    for j in range(1,m+1):\n",
    "        array[0,j] = array[0,j-1]+right[0,j-1]\n",
    "    for i in range(1,n+1):\n",
    "        for j in range(1,m+1):\n",
    "            array[i,j]=max(array[i-1,j]+down[i-1,j],array[i,j-1]+right[i,j-1])\n",
    "    return array[n,m]"
   ]
  },
  {
   "cell_type": "code",
   "execution_count": 90,
   "metadata": {},
   "outputs": [
    {
     "data": {
      "text/plain": [
       "45.0"
      ]
     },
     "execution_count": 90,
     "metadata": {},
     "output_type": "execute_result"
    }
   ],
   "source": [
    "myfile= open(\"dataset_240301_10.txt\", \"r\")\n",
    "n=0\n",
    "m=0\n",
    "matr_num=0\n",
    "drow=0\n",
    "rrow=0\n",
    "for line in myfile:\n",
    "    if line.strip()=='-':\n",
    "            matr_num=2\n",
    "    if matr_num==1:\n",
    "        new_row=line.strip().split(' ')\n",
    "        down[drow,]=new_row\n",
    "        drow+=1\n",
    "    if matr_num==2 and line.strip()!='-':\n",
    "        new_row=line.strip().split(' ')\n",
    "        right[rrow,]=new_row\n",
    "        rrow+=1\n",
    "    if matr_num==0:\n",
    "        st=line.strip()\n",
    "        nm=st.split(' ')\n",
    "        n=int(nm[0])\n",
    "        m=int(nm[1])\n",
    "        down=np.empty((n,m+1))\n",
    "        right=np.empty((n+1,m))\n",
    "        matr_num=1\n",
    "ManhattanTourist(n, m, down, right)"
   ]
  },
  {
   "cell_type": "code",
   "execution_count": 273,
   "metadata": {},
   "outputs": [],
   "source": [
    "#5.8.1"
   ]
  },
  {
   "cell_type": "code",
   "execution_count": 112,
   "metadata": {},
   "outputs": [],
   "source": [
    "def LCSBackTrack(v, w):\n",
    "    array=np.zeros(((len(v)+1),(len(w)+1)))\n",
    "    Backtrack=np.zeros(((len(v)+1),(len(w)+1)))\n",
    "    for i in range (1,len(v)+1):\n",
    "        for j in range(1,len(w)+1):\n",
    "            match=0\n",
    "            if v[i-1]==w[j-1]:\n",
    "                match=1\n",
    "            array[i,j]=max(array[i-1,j],array[i,j-1],array[i-1,j-1]+match)\n",
    "            if array[i,j]==array[i-1,j]:\n",
    "                Backtrack[i,j]=1\n",
    "            elif array[i,j]==array[i,j-1]:\n",
    "                Backtrack[i,j]=2\n",
    "            elif array[i,j]==array[i-1,j-1]+match:\n",
    "                Backtrack[i,j]=3\n",
    "    print(array)\n",
    "    return Backtrack"
   ]
  },
  {
   "cell_type": "code",
   "execution_count": 237,
   "metadata": {},
   "outputs": [
    {
     "name": "stdout",
     "output_type": "stream",
     "text": [
      "[[0. 0. 0. 0. 0. 0.]\n",
      " [0. 0. 0. 0. 0. 0.]\n",
      " [0. 0. 0. 0. 0. 0.]\n",
      " [0. 0. 0. 0. 0. 0.]\n",
      " [0. 0. 0. 0. 0. 0.]\n",
      " [0. 0. 0. 0. 0. 1.]]\n"
     ]
    },
    {
     "data": {
      "text/plain": [
       "array([[0., 0., 0., 0., 0., 0.],\n",
       "       [0., 1., 1., 1., 1., 1.],\n",
       "       [0., 1., 1., 1., 1., 1.],\n",
       "       [0., 1., 1., 1., 1., 1.],\n",
       "       [0., 1., 1., 1., 1., 1.],\n",
       "       [0., 1., 1., 1., 1., 3.]])"
      ]
     },
     "execution_count": 237,
     "metadata": {},
     "output_type": "execute_result"
    }
   ],
   "source": [
    "backtrack=LCSBackTrack(v,w)\n",
    "backtrack"
   ]
  },
  {
   "cell_type": "code",
   "execution_count": 113,
   "metadata": {},
   "outputs": [],
   "source": [
    "def OutputLCS(backtrack, v, i, j):\n",
    "    if i==0 or j==0:\n",
    "        return ''\n",
    "    if backtrack[i,j]==1:\n",
    "        return OutputLCS(backtrack, v, i - 1, j)\n",
    "    elif backtrack[i,j]==2:\n",
    "        return OutputLCS(backtrack, v, i, j - 1)\n",
    "    elif backtrack[i,j]==3:\n",
    "        return OutputLCS(backtrack, v, i - 1, j - 1) + v[i-1]"
   ]
  },
  {
   "cell_type": "code",
   "execution_count": 114,
   "metadata": {},
   "outputs": [
    {
     "name": "stdout",
     "output_type": "stream",
     "text": [
      "[[0. 0. 0. 0. 0. 0. 0. 0. 0. 0.]\n",
      " [0. 1. 1. 1. 1. 1. 1. 1. 1. 1.]\n",
      " [0. 1. 1. 2. 2. 2. 2. 2. 2. 2.]\n",
      " [0. 1. 2. 2. 3. 3. 3. 3. 3. 3.]\n",
      " [0. 1. 2. 2. 3. 3. 3. 3. 3. 3.]\n",
      " [0. 1. 2. 2. 3. 4. 4. 4. 4. 4.]\n",
      " [0. 1. 2. 2. 3. 4. 4. 5. 5. 5.]\n",
      " [0. 1. 2. 2. 3. 4. 5. 5. 6. 6.]\n",
      " [0. 1. 2. 2. 3. 4. 5. 5. 6. 6.]]\n",
      "[[0. 0. 0. 0. 0. 0. 0. 0. 0. 0.]\n",
      " [0. 3. 2. 2. 2. 2. 2. 2. 2. 2.]\n",
      " [0. 1. 1. 3. 2. 2. 2. 2. 2. 2.]\n",
      " [0. 1. 3. 1. 3. 2. 2. 2. 2. 2.]\n",
      " [0. 1. 1. 1. 1. 1. 1. 1. 1. 1.]\n",
      " [0. 1. 1. 1. 1. 3. 2. 2. 2. 2.]\n",
      " [0. 1. 1. 1. 1. 1. 1. 3. 2. 2.]\n",
      " [0. 1. 1. 1. 1. 1. 3. 1. 3. 2.]\n",
      " [0. 1. 1. 1. 1. 1. 1. 1. 1. 1.]]\n"
     ]
    },
    {
     "data": {
      "text/plain": [
       "'AACTTG'"
      ]
     },
     "execution_count": 114,
     "metadata": {},
     "output_type": "execute_result"
    }
   ],
   "source": [
    "v='AACCTTGG'\n",
    "w='ACACTGTGA'\n",
    "backtrack=LCSBackTrack(v,w)\n",
    "print(backtrack)\n",
    "OutputLCS(backtrack, v, len(v), len(w))"
   ]
  },
  {
   "cell_type": "code",
   "execution_count": 271,
   "metadata": {},
   "outputs": [
    {
     "data": {
      "text/plain": [
       "True"
      ]
     },
     "execution_count": 271,
     "metadata": {},
     "output_type": "execute_result"
    }
   ],
   "source": [
    "myfile= open(\"dataset_240303_5.txt\", \"r\")\n",
    "c=1\n",
    "v=''\n",
    "w=''\n",
    "for line in myfile:\n",
    "    if c==1:\n",
    "        v=line.strip()\n",
    "        c=2\n",
    "    if c==2:\n",
    "        w=line.strip()\n",
    "len(v)<len(w)"
   ]
  },
  {
   "cell_type": "code",
   "execution_count": 272,
   "metadata": {},
   "outputs": [
    {
     "name": "stdout",
     "output_type": "stream",
     "text": [
      "[[  0.   0.   0. ...   0.   0.   0.]\n",
      " [  0.   0.   0. ...   1.   1.   1.]\n",
      " [  0.   0.   1. ...   2.   2.   2.]\n",
      " ...\n",
      " [  0.   1.   2. ... 574. 574. 574.]\n",
      " [  0.   1.   2. ... 574. 574. 574.]\n",
      " [  0.   1.   2. ... 574. 574. 575.]]\n"
     ]
    },
    {
     "data": {
      "text/plain": [
       "'TCTAACTGTTGCGCCCACCGGATGAATTCATGGCAGGCGGCCTTTGTTAAGGGATGCCCGTCTCGGTCCCGCTAGAAAATTGTTCGCGGATAAGCTCAGCTGAGCCAGCATTAGCGAGGATCACGCTCCGGCTCAGCTGAGCCTGGGTGTTCTGTCTCGTCTAAGAAAAAGACAGTTGGGTAGACTTCTTGTGTATGATTGAAATGGTCCCCCCAGGAGTCAAGGTGAAGGAAGTCGGAGCCCCATAGGGGGTTGTCGGCGTCACATCAGGCGAGGATAGTAAGGGCTCCAGATTTGGTCGAACGAGGTTCCCCGTGCGGGTTTACACGTACCCTCTACACGTTAACCTCCCAATAACCTTACGACCCCAACGGTGATATCTCTTATAGGCAGCCGAAGCTGGGAACAATACCCGAAGATACAAGTAAAACCACGGTTGCTCTATTGTCGGATTGGCTGCCAACCTTTAGGTCCTCCCTAGCACAACCCCTTAGATGAACGGGGATTGGCAGTAATCTGAGAGAAACTTTTTGTAGTAAACCACTAATAAAAGGGCGCGAACACAAAGGACAGCG'"
      ]
     },
     "execution_count": 272,
     "metadata": {},
     "output_type": "execute_result"
    }
   ],
   "source": [
    "backtrack=LCSBackTrack(v,w)\n",
    "OutputLCS(backtrack, v, len(v), len(w))"
   ]
  },
  {
   "cell_type": "code",
   "execution_count": 274,
   "metadata": {},
   "outputs": [],
   "source": [
    "#5.8.2(wrong version)"
   ]
  },
  {
   "cell_type": "code",
   "execution_count": 52,
   "metadata": {},
   "outputs": [
    {
     "data": {
      "text/plain": [
       "'49'"
      ]
     },
     "execution_count": 52,
     "metadata": {},
     "output_type": "execute_result"
    }
   ],
   "source": [
    "myfile= open(\"dataset_240303_7.txt\", \"r\")\n",
    "c=1\n",
    "start=''\n",
    "end=''\n",
    "dict={}\n",
    "for line in myfile:\n",
    "    if c==3:\n",
    "        st=line.strip()\n",
    "        st=st.replace('->',':')\n",
    "        temp=st.split(':')\n",
    "        dict[(temp[0],temp[1])]=int(temp[2])\n",
    "    if c==2:\n",
    "        end=line.strip()\n",
    "        c=3\n",
    "    if c==1:\n",
    "        start=line.strip()\n",
    "        c=2\n",
    "end"
   ]
  },
  {
   "cell_type": "code",
   "execution_count": 53,
   "metadata": {},
   "outputs": [
    {
     "name": "stdout",
     "output_type": "stream",
     "text": [
      "[['0', '1', '3', '6', '14', '25', '49'], ['0', '1', '3', '4', '13', '49'], ['0', '1', '24', '49'], ['0', '8', '49'], ['0', '8', '14', '49'], ['0', '1', '3', '4', '13', '43', '49'], ['0', '1', '3', '4', '5', '7', '9', '10', '11', '19', '47', '48', '49'], ['0', '1', '3', '6', '14', '33', '36', '44', '49']]\n"
     ]
    },
    {
     "data": {
      "text/plain": [
       "[62, 64, 22, 17, 33, 70, 128, 80]"
      ]
     },
     "execution_count": 53,
     "metadata": {},
     "output_type": "execute_result"
    }
   ],
   "source": [
    "paths=[]\n",
    "weights=[]\n",
    "for elem in dict:\n",
    "    if elem[1]==end:\n",
    "        paths=paths+[[elem[0],elem[1]]]\n",
    "        weights=weights+[dict[elem]]\n",
    "for i in range(1,20):\n",
    "    for elem in dict:\n",
    "        for path in paths:\n",
    "            if elem[1]==path[0]:\n",
    "                ind=paths.index(path)\n",
    "                paths[ind]=[elem[0]]+path\n",
    "                weights[ind]=weights[ind]+dict[elem]\n",
    "\n",
    "print(paths)\n",
    "weights"
   ]
  },
  {
   "cell_type": "code",
   "execution_count": 54,
   "metadata": {},
   "outputs": [
    {
     "data": {
      "text/plain": [
       "128"
      ]
     },
     "execution_count": 54,
     "metadata": {},
     "output_type": "execute_result"
    }
   ],
   "source": [
    "max(weights)"
   ]
  },
  {
   "cell_type": "code",
   "execution_count": 55,
   "metadata": {},
   "outputs": [
    {
     "data": {
      "text/plain": [
       "6"
      ]
     },
     "execution_count": 55,
     "metadata": {},
     "output_type": "execute_result"
    }
   ],
   "source": [
    "weights.index(max(weights))"
   ]
  },
  {
   "cell_type": "code",
   "execution_count": 56,
   "metadata": {},
   "outputs": [
    {
     "data": {
      "text/plain": [
       "'0->1->3->4->5->7->9->10->11->19->47->48->49'"
      ]
     },
     "execution_count": 56,
     "metadata": {},
     "output_type": "execute_result"
    }
   ],
   "source": [
    "'->'.join(paths[6])"
   ]
  },
  {
   "cell_type": "code",
   "execution_count": null,
   "metadata": {},
   "outputs": [],
   "source": [
    "#5.8.2(right)"
   ]
  },
  {
   "cell_type": "code",
   "execution_count": null,
   "metadata": {},
   "outputs": [],
   "source": [
    "myfile= open(\"dataset_240303_7.txt\", \"r\")\n",
    "case=''\n",
    "for line in myfile:\n",
    "    case=case+line\n",
    "case"
   ]
  },
  {
   "cell_type": "code",
   "execution_count": 61,
   "metadata": {},
   "outputs": [
    {
     "name": "stdout",
     "output_type": "stream",
     "text": [
      "nodes\n",
      "[0, 1, 3, 4, 5, 6, 7, 8, 9, 10, 11, 12, 13, 14, 15, 17, 18, 19, 20, 21, 22, 23, 24, 25, 27, 28, 29, 30, 31, 32, 33, 34, 35, 36, 37, 38, 39, 40, 41, 42, 43, 44, 45, 46, 47, 48, 49]\n",
      "adj_list\n",
      "{0: [(7, 9), (28, 6), (1, 6)], 7: [(12, 6), (33, 8), (28, 20), (35, 16)], 12: [(22, 1), (44, 9), (49, 3), (40, 14)], 22: [(49, 13), (33, 16)], 3: [(40, 6), (4, 15)], 38: [(44, 11), (46, 11), (43, 16)], 10: [(15, 20), (21, 20), (11, 10), (22, 10), (25, 5), (20, 2), (13, 5)], 20: [(40, 14)], 42: [(46, 10), (47, 6), (48, 8)], 19: [(21, 11), (34, 12), (39, 2)], 44: [(48, 9), (45, 15)], 13: [(29, 9), (27, 11), (14, 15)], 39: [(41, 3), (48, 8)], 36: [(38, 3), (42, 18)], 46: [(49, 13), (47, 4)], 28: [(31, 17), (45, 15), (43, 5)], 32: [(41, 6), (48, 13)], 37: [(44, 7)], 6: [(36, 12), (8, 3)], 9: [(34, 7), (15, 7), (10, 13)], 29: [(49, 8), (36, 15), (38, 14), (32, 12)], 11: [(23, 13)], 23: [(25, 20), (28, 16)], 35: [(38, 6), (43, 10), (48, 14)], 25: [(38, 13), (29, 15)], 27: [(30, 1), (45, 8), (36, 15), (28, 2)], 5: [(45, 11)], 47: [(48, 12), (49, 20)], 30: [(43, 12)], 1: [(32, 12), (11, 7), (3, 3)], 33: [(37, 20)], 4: [(41, 15), (5, 17), (31, 1), (17, 5), (6, 3)], 17: [(46, 13), (18, 18), (25, 13), (24, 15)], 8: [(23, 5), (9, 16)], 40: [(46, 11), (44, 5)], 15: [(25, 15)], 34: [(49, 8)], 21: [(28, 7)], 45: [(47, 3), (49, 8)], 43: [(47, 7)], 18: [(29, 7), (44, 4)], 14: [(38, 17), (19, 16)]}\n"
     ]
    },
    {
     "data": {
      "text/plain": [
       "'184\\n0->1->3->4->6->8->9->10->11->23->25->29->36->38->44->45->47->49'"
      ]
     },
     "execution_count": 61,
     "metadata": {},
     "output_type": "execute_result"
    }
   ],
   "source": [
    "import random\n",
    "\n",
    "\n",
    "def parse_data(dataset): ##! read in the graph into some python object\n",
    "  nodes = set()\n",
    "  adj_list = {}\n",
    "  rev_adj_list = {}\n",
    "  for line in dataset: ##! just some data preprocesing\n",
    "    line = line.strip().split(\"->\")\n",
    "    node1 = int(line[0])\n",
    "    node2, weight = map(int, line[1].split(\":\"))\n",
    "    nodes.add(node1)\n",
    "    nodes.add(node2)\n",
    "    adj_list.setdefault(node1, []).append((node2, weight))\n",
    "    # store reverse edges to easily find previous nodes\n",
    "    rev_adj_list.setdefault(node2, []).append((node1, weight))\n",
    "  return sorted(nodes), adj_list, rev_adj_list\n",
    "\n",
    "\n",
    "def solve(dataset):\n",
    "  dataset = dataset.splitlines()\n",
    "  start, end = map(int, dataset[:2])\n",
    "  dataset = dataset[2:]\n",
    "  ##! just read in graph. build nodes, and edges\n",
    "  nodes, adj_list, _ = parse_data(dataset) \n",
    "  print('nodes')\n",
    "  print (nodes)\n",
    "  print('adj_list')\n",
    "  print(adj_list)\n",
    "  #\n",
    "  dp = {n:-float(\"inf\") for n in nodes}\n",
    "  dp[start] = 0 ##! set 0 at the start\n",
    "  prev = {}\n",
    "  #\n",
    "  ##! looks like greedy algorithm\n",
    "  for node in nodes:\n",
    "    for neigh, weight in adj_list.get(node, []): ##! go over each neighbor\n",
    "      if dp[neigh] < dp[node] + weight: ##! if we gain \"weight\" then we keep the node\n",
    "        dp[neigh] = dp[node] + weight\n",
    "        prev[neigh] = node\n",
    "  #\n",
    "  prev_node = end\n",
    "  path = []\n",
    "  while prev_node is not None:\n",
    "    path.append(prev_node)\n",
    "    prev_node = prev.get(prev_node)\n",
    "  #\n",
    "  solution = \"{}\\n{}\".format(dp[end], \"->\".join(map(str, path[::-1])))\n",
    "  return solution\n",
    "\n",
    "\n",
    "#### run testing\n",
    "\n",
    "testcase = \"0\\n4\\n0->1:7\\n0->2:4\\n2->3:2\\n1->4:1\\n3->4:3\"\n",
    "\n",
    "solve(case)"
   ]
  },
  {
   "cell_type": "code",
   "execution_count": 183,
   "metadata": {},
   "outputs": [],
   "source": [
    "#5.10.1"
   ]
  },
  {
   "cell_type": "code",
   "execution_count": 226,
   "metadata": {},
   "outputs": [
    {
     "data": {
      "text/html": [
       "<div>\n",
       "<style scoped>\n",
       "    .dataframe tbody tr th:only-of-type {\n",
       "        vertical-align: middle;\n",
       "    }\n",
       "\n",
       "    .dataframe tbody tr th {\n",
       "        vertical-align: top;\n",
       "    }\n",
       "\n",
       "    .dataframe thead th {\n",
       "        text-align: right;\n",
       "    }\n",
       "</style>\n",
       "<table border=\"1\" class=\"dataframe\">\n",
       "  <thead>\n",
       "    <tr style=\"text-align: right;\">\n",
       "      <th></th>\n",
       "      <th>A</th>\n",
       "      <th>C</th>\n",
       "      <th>D</th>\n",
       "      <th>E</th>\n",
       "      <th>F</th>\n",
       "      <th>G</th>\n",
       "      <th>H</th>\n",
       "      <th>I</th>\n",
       "      <th>K</th>\n",
       "      <th>L</th>\n",
       "      <th>M</th>\n",
       "      <th>N</th>\n",
       "      <th>P</th>\n",
       "      <th>Q</th>\n",
       "      <th>R</th>\n",
       "      <th>S</th>\n",
       "      <th>T</th>\n",
       "      <th>V</th>\n",
       "      <th>W</th>\n",
       "      <th>Y</th>\n",
       "    </tr>\n",
       "  </thead>\n",
       "  <tbody>\n",
       "    <tr>\n",
       "      <th>A</th>\n",
       "      <td>4</td>\n",
       "      <td>0</td>\n",
       "      <td>-2</td>\n",
       "      <td>-1</td>\n",
       "      <td>-2</td>\n",
       "      <td>0</td>\n",
       "      <td>-2</td>\n",
       "      <td>-1</td>\n",
       "      <td>-1</td>\n",
       "      <td>-1</td>\n",
       "      <td>-1</td>\n",
       "      <td>-2</td>\n",
       "      <td>-1</td>\n",
       "      <td>-1</td>\n",
       "      <td>-1</td>\n",
       "      <td>1</td>\n",
       "      <td>0</td>\n",
       "      <td>0</td>\n",
       "      <td>-3</td>\n",
       "      <td>-2</td>\n",
       "    </tr>\n",
       "    <tr>\n",
       "      <th>C</th>\n",
       "      <td>0</td>\n",
       "      <td>9</td>\n",
       "      <td>-3</td>\n",
       "      <td>-4</td>\n",
       "      <td>-2</td>\n",
       "      <td>-3</td>\n",
       "      <td>-3</td>\n",
       "      <td>-1</td>\n",
       "      <td>-3</td>\n",
       "      <td>-1</td>\n",
       "      <td>-1</td>\n",
       "      <td>-3</td>\n",
       "      <td>-3</td>\n",
       "      <td>-3</td>\n",
       "      <td>-3</td>\n",
       "      <td>-1</td>\n",
       "      <td>-1</td>\n",
       "      <td>-1</td>\n",
       "      <td>-2</td>\n",
       "      <td>-2</td>\n",
       "    </tr>\n",
       "    <tr>\n",
       "      <th>D</th>\n",
       "      <td>-2</td>\n",
       "      <td>-3</td>\n",
       "      <td>6</td>\n",
       "      <td>2</td>\n",
       "      <td>-3</td>\n",
       "      <td>-1</td>\n",
       "      <td>-1</td>\n",
       "      <td>-3</td>\n",
       "      <td>-1</td>\n",
       "      <td>-4</td>\n",
       "      <td>-3</td>\n",
       "      <td>1</td>\n",
       "      <td>-1</td>\n",
       "      <td>0</td>\n",
       "      <td>-2</td>\n",
       "      <td>0</td>\n",
       "      <td>-1</td>\n",
       "      <td>-3</td>\n",
       "      <td>-4</td>\n",
       "      <td>-3</td>\n",
       "    </tr>\n",
       "    <tr>\n",
       "      <th>E</th>\n",
       "      <td>-1</td>\n",
       "      <td>-4</td>\n",
       "      <td>2</td>\n",
       "      <td>5</td>\n",
       "      <td>-3</td>\n",
       "      <td>-2</td>\n",
       "      <td>0</td>\n",
       "      <td>-3</td>\n",
       "      <td>1</td>\n",
       "      <td>-3</td>\n",
       "      <td>-2</td>\n",
       "      <td>0</td>\n",
       "      <td>-1</td>\n",
       "      <td>2</td>\n",
       "      <td>0</td>\n",
       "      <td>0</td>\n",
       "      <td>-1</td>\n",
       "      <td>-2</td>\n",
       "      <td>-3</td>\n",
       "      <td>-2</td>\n",
       "    </tr>\n",
       "    <tr>\n",
       "      <th>F</th>\n",
       "      <td>-2</td>\n",
       "      <td>-2</td>\n",
       "      <td>-3</td>\n",
       "      <td>-3</td>\n",
       "      <td>6</td>\n",
       "      <td>-3</td>\n",
       "      <td>-1</td>\n",
       "      <td>0</td>\n",
       "      <td>-3</td>\n",
       "      <td>0</td>\n",
       "      <td>0</td>\n",
       "      <td>-3</td>\n",
       "      <td>-4</td>\n",
       "      <td>-3</td>\n",
       "      <td>-3</td>\n",
       "      <td>-2</td>\n",
       "      <td>-2</td>\n",
       "      <td>-1</td>\n",
       "      <td>1</td>\n",
       "      <td>3</td>\n",
       "    </tr>\n",
       "    <tr>\n",
       "      <th>G</th>\n",
       "      <td>0</td>\n",
       "      <td>-3</td>\n",
       "      <td>-1</td>\n",
       "      <td>-2</td>\n",
       "      <td>-3</td>\n",
       "      <td>6</td>\n",
       "      <td>-2</td>\n",
       "      <td>-4</td>\n",
       "      <td>-2</td>\n",
       "      <td>-4</td>\n",
       "      <td>-3</td>\n",
       "      <td>0</td>\n",
       "      <td>-2</td>\n",
       "      <td>-2</td>\n",
       "      <td>-2</td>\n",
       "      <td>0</td>\n",
       "      <td>-2</td>\n",
       "      <td>-3</td>\n",
       "      <td>-2</td>\n",
       "      <td>-3</td>\n",
       "    </tr>\n",
       "    <tr>\n",
       "      <th>H</th>\n",
       "      <td>-2</td>\n",
       "      <td>-3</td>\n",
       "      <td>-1</td>\n",
       "      <td>0</td>\n",
       "      <td>-1</td>\n",
       "      <td>-2</td>\n",
       "      <td>8</td>\n",
       "      <td>-3</td>\n",
       "      <td>-1</td>\n",
       "      <td>-3</td>\n",
       "      <td>-2</td>\n",
       "      <td>1</td>\n",
       "      <td>-2</td>\n",
       "      <td>0</td>\n",
       "      <td>0</td>\n",
       "      <td>-1</td>\n",
       "      <td>-2</td>\n",
       "      <td>-3</td>\n",
       "      <td>-2</td>\n",
       "      <td>2</td>\n",
       "    </tr>\n",
       "    <tr>\n",
       "      <th>I</th>\n",
       "      <td>-1</td>\n",
       "      <td>-1</td>\n",
       "      <td>-3</td>\n",
       "      <td>-3</td>\n",
       "      <td>0</td>\n",
       "      <td>-4</td>\n",
       "      <td>-3</td>\n",
       "      <td>4</td>\n",
       "      <td>-3</td>\n",
       "      <td>2</td>\n",
       "      <td>1</td>\n",
       "      <td>-3</td>\n",
       "      <td>-3</td>\n",
       "      <td>-3</td>\n",
       "      <td>-3</td>\n",
       "      <td>-2</td>\n",
       "      <td>-1</td>\n",
       "      <td>3</td>\n",
       "      <td>-3</td>\n",
       "      <td>-1</td>\n",
       "    </tr>\n",
       "    <tr>\n",
       "      <th>K</th>\n",
       "      <td>-1</td>\n",
       "      <td>-3</td>\n",
       "      <td>-1</td>\n",
       "      <td>1</td>\n",
       "      <td>-3</td>\n",
       "      <td>-2</td>\n",
       "      <td>-1</td>\n",
       "      <td>-3</td>\n",
       "      <td>5</td>\n",
       "      <td>-2</td>\n",
       "      <td>-1</td>\n",
       "      <td>0</td>\n",
       "      <td>-1</td>\n",
       "      <td>1</td>\n",
       "      <td>2</td>\n",
       "      <td>0</td>\n",
       "      <td>-1</td>\n",
       "      <td>-2</td>\n",
       "      <td>-3</td>\n",
       "      <td>-2</td>\n",
       "    </tr>\n",
       "    <tr>\n",
       "      <th>L</th>\n",
       "      <td>-1</td>\n",
       "      <td>-1</td>\n",
       "      <td>-4</td>\n",
       "      <td>-3</td>\n",
       "      <td>0</td>\n",
       "      <td>-4</td>\n",
       "      <td>-3</td>\n",
       "      <td>2</td>\n",
       "      <td>-2</td>\n",
       "      <td>4</td>\n",
       "      <td>2</td>\n",
       "      <td>-3</td>\n",
       "      <td>-3</td>\n",
       "      <td>-2</td>\n",
       "      <td>-2</td>\n",
       "      <td>-2</td>\n",
       "      <td>-1</td>\n",
       "      <td>1</td>\n",
       "      <td>-2</td>\n",
       "      <td>-1</td>\n",
       "    </tr>\n",
       "    <tr>\n",
       "      <th>M</th>\n",
       "      <td>-1</td>\n",
       "      <td>-1</td>\n",
       "      <td>-3</td>\n",
       "      <td>-2</td>\n",
       "      <td>0</td>\n",
       "      <td>-3</td>\n",
       "      <td>-2</td>\n",
       "      <td>1</td>\n",
       "      <td>-1</td>\n",
       "      <td>2</td>\n",
       "      <td>5</td>\n",
       "      <td>-2</td>\n",
       "      <td>-2</td>\n",
       "      <td>0</td>\n",
       "      <td>-1</td>\n",
       "      <td>-1</td>\n",
       "      <td>-1</td>\n",
       "      <td>1</td>\n",
       "      <td>-1</td>\n",
       "      <td>-1</td>\n",
       "    </tr>\n",
       "    <tr>\n",
       "      <th>N</th>\n",
       "      <td>-2</td>\n",
       "      <td>-3</td>\n",
       "      <td>1</td>\n",
       "      <td>0</td>\n",
       "      <td>-3</td>\n",
       "      <td>0</td>\n",
       "      <td>1</td>\n",
       "      <td>-3</td>\n",
       "      <td>0</td>\n",
       "      <td>-3</td>\n",
       "      <td>-2</td>\n",
       "      <td>6</td>\n",
       "      <td>-2</td>\n",
       "      <td>0</td>\n",
       "      <td>0</td>\n",
       "      <td>1</td>\n",
       "      <td>0</td>\n",
       "      <td>-3</td>\n",
       "      <td>-4</td>\n",
       "      <td>-2</td>\n",
       "    </tr>\n",
       "    <tr>\n",
       "      <th>P</th>\n",
       "      <td>-1</td>\n",
       "      <td>-3</td>\n",
       "      <td>-1</td>\n",
       "      <td>-1</td>\n",
       "      <td>-4</td>\n",
       "      <td>-2</td>\n",
       "      <td>-2</td>\n",
       "      <td>-3</td>\n",
       "      <td>-1</td>\n",
       "      <td>-3</td>\n",
       "      <td>-2</td>\n",
       "      <td>-2</td>\n",
       "      <td>7</td>\n",
       "      <td>-1</td>\n",
       "      <td>-2</td>\n",
       "      <td>-1</td>\n",
       "      <td>-1</td>\n",
       "      <td>-2</td>\n",
       "      <td>-4</td>\n",
       "      <td>-3</td>\n",
       "    </tr>\n",
       "    <tr>\n",
       "      <th>Q</th>\n",
       "      <td>-1</td>\n",
       "      <td>-3</td>\n",
       "      <td>0</td>\n",
       "      <td>2</td>\n",
       "      <td>-3</td>\n",
       "      <td>-2</td>\n",
       "      <td>0</td>\n",
       "      <td>-3</td>\n",
       "      <td>1</td>\n",
       "      <td>-2</td>\n",
       "      <td>0</td>\n",
       "      <td>0</td>\n",
       "      <td>-1</td>\n",
       "      <td>5</td>\n",
       "      <td>1</td>\n",
       "      <td>0</td>\n",
       "      <td>-1</td>\n",
       "      <td>-2</td>\n",
       "      <td>-2</td>\n",
       "      <td>-1</td>\n",
       "    </tr>\n",
       "    <tr>\n",
       "      <th>R</th>\n",
       "      <td>-1</td>\n",
       "      <td>-3</td>\n",
       "      <td>-2</td>\n",
       "      <td>0</td>\n",
       "      <td>-3</td>\n",
       "      <td>-2</td>\n",
       "      <td>0</td>\n",
       "      <td>-3</td>\n",
       "      <td>2</td>\n",
       "      <td>-2</td>\n",
       "      <td>-1</td>\n",
       "      <td>0</td>\n",
       "      <td>-2</td>\n",
       "      <td>1</td>\n",
       "      <td>5</td>\n",
       "      <td>-1</td>\n",
       "      <td>-1</td>\n",
       "      <td>-3</td>\n",
       "      <td>-3</td>\n",
       "      <td>-2</td>\n",
       "    </tr>\n",
       "    <tr>\n",
       "      <th>S</th>\n",
       "      <td>1</td>\n",
       "      <td>-1</td>\n",
       "      <td>0</td>\n",
       "      <td>0</td>\n",
       "      <td>-2</td>\n",
       "      <td>0</td>\n",
       "      <td>-1</td>\n",
       "      <td>-2</td>\n",
       "      <td>0</td>\n",
       "      <td>-2</td>\n",
       "      <td>-1</td>\n",
       "      <td>1</td>\n",
       "      <td>-1</td>\n",
       "      <td>0</td>\n",
       "      <td>-1</td>\n",
       "      <td>4</td>\n",
       "      <td>1</td>\n",
       "      <td>-2</td>\n",
       "      <td>-3</td>\n",
       "      <td>-2</td>\n",
       "    </tr>\n",
       "    <tr>\n",
       "      <th>T</th>\n",
       "      <td>0</td>\n",
       "      <td>-1</td>\n",
       "      <td>-1</td>\n",
       "      <td>-1</td>\n",
       "      <td>-2</td>\n",
       "      <td>-2</td>\n",
       "      <td>-2</td>\n",
       "      <td>-1</td>\n",
       "      <td>-1</td>\n",
       "      <td>-1</td>\n",
       "      <td>-1</td>\n",
       "      <td>0</td>\n",
       "      <td>-1</td>\n",
       "      <td>-1</td>\n",
       "      <td>-1</td>\n",
       "      <td>1</td>\n",
       "      <td>5</td>\n",
       "      <td>0</td>\n",
       "      <td>-2</td>\n",
       "      <td>-2</td>\n",
       "    </tr>\n",
       "    <tr>\n",
       "      <th>V</th>\n",
       "      <td>0</td>\n",
       "      <td>-1</td>\n",
       "      <td>-3</td>\n",
       "      <td>-2</td>\n",
       "      <td>-1</td>\n",
       "      <td>-3</td>\n",
       "      <td>-3</td>\n",
       "      <td>3</td>\n",
       "      <td>-2</td>\n",
       "      <td>1</td>\n",
       "      <td>1</td>\n",
       "      <td>-3</td>\n",
       "      <td>-2</td>\n",
       "      <td>-2</td>\n",
       "      <td>-3</td>\n",
       "      <td>-2</td>\n",
       "      <td>0</td>\n",
       "      <td>4</td>\n",
       "      <td>-3</td>\n",
       "      <td>-1</td>\n",
       "    </tr>\n",
       "    <tr>\n",
       "      <th>W</th>\n",
       "      <td>-3</td>\n",
       "      <td>-2</td>\n",
       "      <td>-4</td>\n",
       "      <td>-3</td>\n",
       "      <td>1</td>\n",
       "      <td>-2</td>\n",
       "      <td>-2</td>\n",
       "      <td>-3</td>\n",
       "      <td>-3</td>\n",
       "      <td>-2</td>\n",
       "      <td>-1</td>\n",
       "      <td>-4</td>\n",
       "      <td>-4</td>\n",
       "      <td>-2</td>\n",
       "      <td>-3</td>\n",
       "      <td>-3</td>\n",
       "      <td>-2</td>\n",
       "      <td>-3</td>\n",
       "      <td>11</td>\n",
       "      <td>2</td>\n",
       "    </tr>\n",
       "    <tr>\n",
       "      <th>Y</th>\n",
       "      <td>-2</td>\n",
       "      <td>-2</td>\n",
       "      <td>-3</td>\n",
       "      <td>-2</td>\n",
       "      <td>3</td>\n",
       "      <td>-3</td>\n",
       "      <td>2</td>\n",
       "      <td>-1</td>\n",
       "      <td>-2</td>\n",
       "      <td>-1</td>\n",
       "      <td>-1</td>\n",
       "      <td>-2</td>\n",
       "      <td>-3</td>\n",
       "      <td>-1</td>\n",
       "      <td>-2</td>\n",
       "      <td>-2</td>\n",
       "      <td>-2</td>\n",
       "      <td>-1</td>\n",
       "      <td>2</td>\n",
       "      <td>7</td>\n",
       "    </tr>\n",
       "  </tbody>\n",
       "</table>\n",
       "</div>"
      ],
      "text/plain": [
       "   A  C  D  E  F  G  H  I  K  L  M  N  P  Q  R  S  T  V   W  Y\n",
       "A  4  0 -2 -1 -2  0 -2 -1 -1 -1 -1 -2 -1 -1 -1  1  0  0  -3 -2\n",
       "C  0  9 -3 -4 -2 -3 -3 -1 -3 -1 -1 -3 -3 -3 -3 -1 -1 -1  -2 -2\n",
       "D -2 -3  6  2 -3 -1 -1 -3 -1 -4 -3  1 -1  0 -2  0 -1 -3  -4 -3\n",
       "E -1 -4  2  5 -3 -2  0 -3  1 -3 -2  0 -1  2  0  0 -1 -2  -3 -2\n",
       "F -2 -2 -3 -3  6 -3 -1  0 -3  0  0 -3 -4 -3 -3 -2 -2 -1   1  3\n",
       "G  0 -3 -1 -2 -3  6 -2 -4 -2 -4 -3  0 -2 -2 -2  0 -2 -3  -2 -3\n",
       "H -2 -3 -1  0 -1 -2  8 -3 -1 -3 -2  1 -2  0  0 -1 -2 -3  -2  2\n",
       "I -1 -1 -3 -3  0 -4 -3  4 -3  2  1 -3 -3 -3 -3 -2 -1  3  -3 -1\n",
       "K -1 -3 -1  1 -3 -2 -1 -3  5 -2 -1  0 -1  1  2  0 -1 -2  -3 -2\n",
       "L -1 -1 -4 -3  0 -4 -3  2 -2  4  2 -3 -3 -2 -2 -2 -1  1  -2 -1\n",
       "M -1 -1 -3 -2  0 -3 -2  1 -1  2  5 -2 -2  0 -1 -1 -1  1  -1 -1\n",
       "N -2 -3  1  0 -3  0  1 -3  0 -3 -2  6 -2  0  0  1  0 -3  -4 -2\n",
       "P -1 -3 -1 -1 -4 -2 -2 -3 -1 -3 -2 -2  7 -1 -2 -1 -1 -2  -4 -3\n",
       "Q -1 -3  0  2 -3 -2  0 -3  1 -2  0  0 -1  5  1  0 -1 -2  -2 -1\n",
       "R -1 -3 -2  0 -3 -2  0 -3  2 -2 -1  0 -2  1  5 -1 -1 -3  -3 -2\n",
       "S  1 -1  0  0 -2  0 -1 -2  0 -2 -1  1 -1  0 -1  4  1 -2  -3 -2\n",
       "T  0 -1 -1 -1 -2 -2 -2 -1 -1 -1 -1  0 -1 -1 -1  1  5  0  -2 -2\n",
       "V  0 -1 -3 -2 -1 -3 -3  3 -2  1  1 -3 -2 -2 -3 -2  0  4  -3 -1\n",
       "W -3 -2 -4 -3  1 -2 -2 -3 -3 -2 -1 -4 -4 -2 -3 -3 -2 -3  11  2\n",
       "Y -2 -2 -3 -2  3 -3  2 -1 -2 -1 -1 -2 -3 -1 -2 -2 -2 -1   2  7"
      ]
     },
     "execution_count": 226,
     "metadata": {},
     "output_type": "execute_result"
    }
   ],
   "source": [
    "import pandas as pd\n",
    "import numpy as np\n",
    "myfile= open(\"BLOSUM62.txt\", \"r\")\n",
    "c=1\n",
    "cr_names=[]\n",
    "scores=[]\n",
    "for line in myfile:\n",
    "    if c==2:\n",
    "        st=line.strip().replace('  ',' ')\n",
    "        scores=scores+st.split(' ')[1:]\n",
    "    if c==1:\n",
    "        cr_names=line.strip().split('  ')\n",
    "        c=2\n",
    "for i in range(len(scores)):\n",
    "    scores[i]=int(scores[i])\n",
    "scores_mat=matrix = np.reshape(scores, (20, 20))\n",
    "scores_mat=pd.DataFrame(scores_mat, columns=cr_names, index=cr_names)\n",
    "scores_mat"
   ]
  },
  {
   "cell_type": "code",
   "execution_count": 121,
   "metadata": {},
   "outputs": [],
   "source": [
    "def LCSBackTrack(v, w):\n",
    "    array=np.zeros(((len(v)+1),(len(w)+1)))\n",
    "    Backtrack=np.zeros(((len(v)+1),(len(w)+1)))\n",
    "    for i in range (0,len(v)+1):\n",
    "        array[i,0]=0-i*5\n",
    "    for j in range (0,len(w)+1):\n",
    "        array[0,j]=0-j*5\n",
    "    for i in range (1,len(v)+1):\n",
    "        for j in range(1,len(w)+1):\n",
    "            match=scores_mat[v[i-1]][w[j-1]]\n",
    "            array[i,j]=max(array[i-1,j]-5,array[i,j-1]-5,array[i-1,j-1]+match)\n",
    "            if array[i,j]==array[i-1,j]-5:\n",
    "                Backtrack[i,j]=1\n",
    "            elif array[i,j]==array[i,j-1]-5:\n",
    "                Backtrack[i,j]=2\n",
    "            elif array[i,j]==array[i-1,j-1]+match:\n",
    "                Backtrack[i,j]=3\n",
    "    print(array)\n",
    "    return Backtrack"
   ]
  },
  {
   "cell_type": "code",
   "execution_count": 181,
   "metadata": {},
   "outputs": [
    {
     "name": "stdout",
     "output_type": "stream",
     "text": [
      "[[    0.    -5.   -10. ... -4225. -4230. -4235.]\n",
      " [   -5.     5.     0. ... -4215. -4220. -4225.]\n",
      " [  -10.     0.    12. ... -4203. -4208. -4213.]\n",
      " ...\n",
      " [-4130. -4120. -4108. ...  1804.  1799.  1804.]\n",
      " [-4135. -4125. -4113. ...  1799.  1808.  1803.]\n",
      " [-4140. -4130. -4118. ...  1794.  1803.  1816.]]\n"
     ]
    },
    {
     "data": {
      "text/plain": [
       "array([[0., 0., 0., ..., 0., 0., 0.],\n",
       "       [0., 3., 2., ..., 2., 2., 2.],\n",
       "       [0., 1., 3., ..., 2., 2., 2.],\n",
       "       ...,\n",
       "       [0., 1., 1., ..., 3., 2., 1.],\n",
       "       [0., 1., 1., ..., 1., 3., 2.],\n",
       "       [0., 1., 1., ..., 1., 1., 3.]])"
      ]
     },
     "execution_count": 181,
     "metadata": {},
     "output_type": "execute_result"
    }
   ],
   "source": [
    "myfile= open(\"dataset_240305_3.txt\", \"r\")\n",
    "c=1\n",
    "v=''\n",
    "w=''\n",
    "for line in myfile:\n",
    "    if c==1:\n",
    "        v=line.strip()\n",
    "        c=2\n",
    "    if c==2:\n",
    "        w=line.strip()\n",
    "backtrack=LCSBackTrack(v,w)\n",
    "backtrack"
   ]
  },
  {
   "cell_type": "code",
   "execution_count": 167,
   "metadata": {},
   "outputs": [],
   "source": [
    "def OutputLCS(backtrack, v, w, i, j):\n",
    "    if i==0 or j==0:\n",
    "        return ('','')\n",
    "    if backtrack[i,j]==1:\n",
    "        reta,retb = OutputLCS(backtrack, v, w,i - 1, j)\n",
    "        return (reta+ v[i-1],retb+ '-')\n",
    "    elif backtrack[i,j]==2:\n",
    "        reta,retb = OutputLCS(backtrack, v, w,i, j - 1)\n",
    "        return (reta+ '-',retb+ w[j-1])\n",
    "    elif backtrack[i,j]==3:\n",
    "        reta,retb = OutputLCS(backtrack, v, w,i - 1, j - 1) \n",
    "        return (reta+ v[i-1],retb+ w[j-1])"
   ]
  },
  {
   "cell_type": "code",
   "execution_count": 182,
   "metadata": {},
   "outputs": [
    {
     "data": {
      "text/plain": [
       "('KPSRGMEFGGF-----SFRR-Y-VCMHMWTRKWVHDVWNEWLMYLAREANGFLVKHGKSTAEIVRSHCHFSHMQDCMLDHGSVRVDCHIFYMWCNCLAFVAYDKNTQKPNQRTPKLRSMGFTMQFICC-DFN--RRYHAVVEQKMMSCTQTIY-------WQSQHDGSFHTDWMHMMIGEGAFLPHMCNMTMDAGSNFPPSPSDINEDKQQLVCHGRFLHLHNRKTSPPADCACPSMTNLIYWLRNCWMLG-HT--RNQD--M-KINIGEWYRATNWNNTCIHMALFDQAQMNWDKWTGWGNPRYGQTCDQECWIYRTGVGHSQAANLCYQCRSERCMNDRQQTCNPHTEYEATVREKWKHFVYAMWETEARPC-M-KCSKKLGCCYTYVNCYPPNY-HS-Q-E----V--SVKELHGYACWMSDPMQCSGVNDD------D--VKMRMGRW-G-----F--NNVHSWKWVSGMDMPYEKFGRWTVDPENARITQITGTRPMNEQNRSGIMESVTPHFTRWCFP-LSKRSYSIKH-TFKHTQKMCAFNGGGDRCAGHRSIVPR----D---PMEDCMKKKWKMFTADNRDNWYHYNRGLIGH-WSKFHGVKKNT---G-M--VGINPHAVC-S---WYISMCQE--G--CHTC-------SAQMGTKASMCQNVVYNNGMWWSVSSMMMVSLQDE-E---AQAFMREERWHLTFWGEHYYTSLGGDEPKIPSMYIQYREE----LC-H-G-----YEC--F---HNKDLKHTFCNHL----L----C-RVLRFHNKSKQQNIKFNPRQEVLKQCS--K--WHF--N-TAETHRWRIYIFRNDIDCFWFNKW-CRGPFTFQWNARFSL-LFN---VLKQE-DSNCSIFACIDLLSCTGQWCRFTGCEPDAWQSHWVTNEKSYDKNWFTDLKPPAQSIDFRHGDSALTHSMIH',\n",
       " 'KPSRGMEFGGWNDDIGSFRMAWEIPM-MWTRKNVTNGRMRWLMYLEREANGFLV----AVLQGVRSHCHFSHMQDCMLD---V--DCHIFYGWCNVMVYLA----T--PNQR----RQVGFTMQIHDKRDFNCYQRTHAFVFQKMMSCTQTIHVIDEAGQWQSPHDGSFHTDWRHLMIGEGAFLKHVCNMTMDA-CD-PKWP--L------L-----W-S-YPRRFSLPADCICPSR-KWSYDMPTCWMLGDRMFGENQDKPVYKINIGEWYKAYNWNNTCIHYNMLPPPQFAL-RVTD--N-FLGQTAS---WPDQKNL--PQF-H--YQCRSERHMNDRQQYVN----YEA--REKWKHFVYAMWETEAHPCPKPKCSKKLGICYTYVNCY--NYCKSSRVEWANMVICSVKELHGFAC-C---MQCSGINDDGNQYSPDQCTKMRMGRWCGGSYQNFHFNNVHSWKHVSGMDMPYEKFGRITVDPEN--YC-----RPMNEQNRSGF-PCY--FYGK-CMESVTSVMYTGCHFTGIH-MKWC-FPC--QKM-GH-SIVPRWCYFDVHVPMEDCMKKIWKMFTADNRDNWYHYNRGLIGLIMNQFRNWSKNRIRHGVLKNVWINTHAVQQTLPVFHIHVCESRPANNCHTCWAPTKAASAGMGTKANMCQNVVYNNGMWWSVKSMMMVWLQDETSWFHAQAFMREERWHMTFWGEHYYTELGGDEPKIPSMYIQYREQCGAGLLFHESCFWPRYECKQYMLNHNKDLLHTFCNHLDETPVRPYWTPRVLRFHNKSKQFIIPFNPRQEVRDYMAPYKVMWSVTKNNTAETHRWRPQIFRNDIDCFWFLHFKCRGPFTFQWNARWPVYLWHQGSLLFNVLDSNPK-WNCIDLLSCTGQWCRMTGCEPDAWQSH-----K----NW--N-------I------SALTHSMIH')"
      ]
     },
     "execution_count": 182,
     "metadata": {},
     "output_type": "execute_result"
    }
   ],
   "source": [
    "OutputLCS(backtrack, v, w,len(v), len(w))"
   ]
  },
  {
   "cell_type": "code",
   "execution_count": 185,
   "metadata": {},
   "outputs": [],
   "source": [
    "#5.10.2"
   ]
  },
  {
   "cell_type": "code",
   "execution_count": 227,
   "metadata": {},
   "outputs": [
    {
     "data": {
      "text/html": [
       "<div>\n",
       "<style scoped>\n",
       "    .dataframe tbody tr th:only-of-type {\n",
       "        vertical-align: middle;\n",
       "    }\n",
       "\n",
       "    .dataframe tbody tr th {\n",
       "        vertical-align: top;\n",
       "    }\n",
       "\n",
       "    .dataframe thead th {\n",
       "        text-align: right;\n",
       "    }\n",
       "</style>\n",
       "<table border=\"1\" class=\"dataframe\">\n",
       "  <thead>\n",
       "    <tr style=\"text-align: right;\">\n",
       "      <th></th>\n",
       "      <th>A</th>\n",
       "      <th>C</th>\n",
       "      <th>D</th>\n",
       "      <th>E</th>\n",
       "      <th>F</th>\n",
       "      <th>G</th>\n",
       "      <th>H</th>\n",
       "      <th>I</th>\n",
       "      <th>K</th>\n",
       "      <th>L</th>\n",
       "      <th>M</th>\n",
       "      <th>N</th>\n",
       "      <th>P</th>\n",
       "      <th>Q</th>\n",
       "      <th>R</th>\n",
       "      <th>S</th>\n",
       "      <th>T</th>\n",
       "      <th>V</th>\n",
       "      <th>W</th>\n",
       "      <th>Y</th>\n",
       "    </tr>\n",
       "  </thead>\n",
       "  <tbody>\n",
       "    <tr>\n",
       "      <th>A</th>\n",
       "      <td>2</td>\n",
       "      <td>-2</td>\n",
       "      <td>0</td>\n",
       "      <td>0</td>\n",
       "      <td>-3</td>\n",
       "      <td>1</td>\n",
       "      <td>-1</td>\n",
       "      <td>-1</td>\n",
       "      <td>-1</td>\n",
       "      <td>-2</td>\n",
       "      <td>-1</td>\n",
       "      <td>0</td>\n",
       "      <td>1</td>\n",
       "      <td>0</td>\n",
       "      <td>-2</td>\n",
       "      <td>1</td>\n",
       "      <td>1</td>\n",
       "      <td>0</td>\n",
       "      <td>-6</td>\n",
       "      <td>-3</td>\n",
       "    </tr>\n",
       "    <tr>\n",
       "      <th>C</th>\n",
       "      <td>-2</td>\n",
       "      <td>12</td>\n",
       "      <td>-5</td>\n",
       "      <td>-5</td>\n",
       "      <td>-4</td>\n",
       "      <td>-3</td>\n",
       "      <td>-3</td>\n",
       "      <td>-2</td>\n",
       "      <td>-5</td>\n",
       "      <td>-6</td>\n",
       "      <td>-5</td>\n",
       "      <td>-4</td>\n",
       "      <td>-3</td>\n",
       "      <td>-5</td>\n",
       "      <td>-4</td>\n",
       "      <td>0</td>\n",
       "      <td>-2</td>\n",
       "      <td>-2</td>\n",
       "      <td>-8</td>\n",
       "      <td>0</td>\n",
       "    </tr>\n",
       "    <tr>\n",
       "      <th>D</th>\n",
       "      <td>0</td>\n",
       "      <td>-5</td>\n",
       "      <td>4</td>\n",
       "      <td>3</td>\n",
       "      <td>-6</td>\n",
       "      <td>1</td>\n",
       "      <td>1</td>\n",
       "      <td>-2</td>\n",
       "      <td>0</td>\n",
       "      <td>-4</td>\n",
       "      <td>-3</td>\n",
       "      <td>2</td>\n",
       "      <td>-1</td>\n",
       "      <td>2</td>\n",
       "      <td>-1</td>\n",
       "      <td>0</td>\n",
       "      <td>0</td>\n",
       "      <td>-2</td>\n",
       "      <td>-7</td>\n",
       "      <td>-4</td>\n",
       "    </tr>\n",
       "    <tr>\n",
       "      <th>E</th>\n",
       "      <td>0</td>\n",
       "      <td>-5</td>\n",
       "      <td>3</td>\n",
       "      <td>4</td>\n",
       "      <td>-5</td>\n",
       "      <td>0</td>\n",
       "      <td>1</td>\n",
       "      <td>-2</td>\n",
       "      <td>0</td>\n",
       "      <td>-3</td>\n",
       "      <td>-2</td>\n",
       "      <td>1</td>\n",
       "      <td>-1</td>\n",
       "      <td>2</td>\n",
       "      <td>-1</td>\n",
       "      <td>0</td>\n",
       "      <td>0</td>\n",
       "      <td>-2</td>\n",
       "      <td>-7</td>\n",
       "      <td>-4</td>\n",
       "    </tr>\n",
       "    <tr>\n",
       "      <th>F</th>\n",
       "      <td>-3</td>\n",
       "      <td>-4</td>\n",
       "      <td>-6</td>\n",
       "      <td>-5</td>\n",
       "      <td>9</td>\n",
       "      <td>-5</td>\n",
       "      <td>-2</td>\n",
       "      <td>1</td>\n",
       "      <td>-5</td>\n",
       "      <td>2</td>\n",
       "      <td>0</td>\n",
       "      <td>-3</td>\n",
       "      <td>-5</td>\n",
       "      <td>-5</td>\n",
       "      <td>-4</td>\n",
       "      <td>-3</td>\n",
       "      <td>-3</td>\n",
       "      <td>-1</td>\n",
       "      <td>0</td>\n",
       "      <td>7</td>\n",
       "    </tr>\n",
       "    <tr>\n",
       "      <th>G</th>\n",
       "      <td>1</td>\n",
       "      <td>-3</td>\n",
       "      <td>1</td>\n",
       "      <td>0</td>\n",
       "      <td>-5</td>\n",
       "      <td>5</td>\n",
       "      <td>-2</td>\n",
       "      <td>-3</td>\n",
       "      <td>-2</td>\n",
       "      <td>-4</td>\n",
       "      <td>-3</td>\n",
       "      <td>0</td>\n",
       "      <td>0</td>\n",
       "      <td>-1</td>\n",
       "      <td>-3</td>\n",
       "      <td>1</td>\n",
       "      <td>0</td>\n",
       "      <td>-1</td>\n",
       "      <td>-7</td>\n",
       "      <td>-5</td>\n",
       "    </tr>\n",
       "    <tr>\n",
       "      <th>H</th>\n",
       "      <td>-1</td>\n",
       "      <td>-3</td>\n",
       "      <td>1</td>\n",
       "      <td>1</td>\n",
       "      <td>-2</td>\n",
       "      <td>-2</td>\n",
       "      <td>6</td>\n",
       "      <td>-2</td>\n",
       "      <td>0</td>\n",
       "      <td>-2</td>\n",
       "      <td>-2</td>\n",
       "      <td>2</td>\n",
       "      <td>0</td>\n",
       "      <td>3</td>\n",
       "      <td>2</td>\n",
       "      <td>-1</td>\n",
       "      <td>-1</td>\n",
       "      <td>-2</td>\n",
       "      <td>-3</td>\n",
       "      <td>0</td>\n",
       "    </tr>\n",
       "    <tr>\n",
       "      <th>I</th>\n",
       "      <td>-1</td>\n",
       "      <td>-2</td>\n",
       "      <td>-2</td>\n",
       "      <td>-2</td>\n",
       "      <td>1</td>\n",
       "      <td>-3</td>\n",
       "      <td>-2</td>\n",
       "      <td>5</td>\n",
       "      <td>-2</td>\n",
       "      <td>2</td>\n",
       "      <td>2</td>\n",
       "      <td>-2</td>\n",
       "      <td>-2</td>\n",
       "      <td>-2</td>\n",
       "      <td>-2</td>\n",
       "      <td>-1</td>\n",
       "      <td>0</td>\n",
       "      <td>4</td>\n",
       "      <td>-5</td>\n",
       "      <td>-1</td>\n",
       "    </tr>\n",
       "    <tr>\n",
       "      <th>K</th>\n",
       "      <td>-1</td>\n",
       "      <td>-5</td>\n",
       "      <td>0</td>\n",
       "      <td>0</td>\n",
       "      <td>-5</td>\n",
       "      <td>-2</td>\n",
       "      <td>0</td>\n",
       "      <td>-2</td>\n",
       "      <td>5</td>\n",
       "      <td>-3</td>\n",
       "      <td>0</td>\n",
       "      <td>1</td>\n",
       "      <td>-1</td>\n",
       "      <td>1</td>\n",
       "      <td>3</td>\n",
       "      <td>0</td>\n",
       "      <td>0</td>\n",
       "      <td>-2</td>\n",
       "      <td>-3</td>\n",
       "      <td>-4</td>\n",
       "    </tr>\n",
       "    <tr>\n",
       "      <th>L</th>\n",
       "      <td>-2</td>\n",
       "      <td>-6</td>\n",
       "      <td>-4</td>\n",
       "      <td>-3</td>\n",
       "      <td>2</td>\n",
       "      <td>-4</td>\n",
       "      <td>-2</td>\n",
       "      <td>2</td>\n",
       "      <td>-3</td>\n",
       "      <td>6</td>\n",
       "      <td>4</td>\n",
       "      <td>-3</td>\n",
       "      <td>-3</td>\n",
       "      <td>-2</td>\n",
       "      <td>-3</td>\n",
       "      <td>-3</td>\n",
       "      <td>-2</td>\n",
       "      <td>2</td>\n",
       "      <td>-2</td>\n",
       "      <td>-1</td>\n",
       "    </tr>\n",
       "    <tr>\n",
       "      <th>M</th>\n",
       "      <td>-1</td>\n",
       "      <td>-5</td>\n",
       "      <td>-3</td>\n",
       "      <td>-2</td>\n",
       "      <td>0</td>\n",
       "      <td>-3</td>\n",
       "      <td>-2</td>\n",
       "      <td>2</td>\n",
       "      <td>0</td>\n",
       "      <td>4</td>\n",
       "      <td>6</td>\n",
       "      <td>-2</td>\n",
       "      <td>-2</td>\n",
       "      <td>-1</td>\n",
       "      <td>0</td>\n",
       "      <td>-2</td>\n",
       "      <td>-1</td>\n",
       "      <td>2</td>\n",
       "      <td>-4</td>\n",
       "      <td>-2</td>\n",
       "    </tr>\n",
       "    <tr>\n",
       "      <th>N</th>\n",
       "      <td>0</td>\n",
       "      <td>-4</td>\n",
       "      <td>2</td>\n",
       "      <td>1</td>\n",
       "      <td>-3</td>\n",
       "      <td>0</td>\n",
       "      <td>2</td>\n",
       "      <td>-2</td>\n",
       "      <td>1</td>\n",
       "      <td>-3</td>\n",
       "      <td>-2</td>\n",
       "      <td>2</td>\n",
       "      <td>0</td>\n",
       "      <td>1</td>\n",
       "      <td>0</td>\n",
       "      <td>1</td>\n",
       "      <td>0</td>\n",
       "      <td>-2</td>\n",
       "      <td>-4</td>\n",
       "      <td>-2</td>\n",
       "    </tr>\n",
       "    <tr>\n",
       "      <th>P</th>\n",
       "      <td>1</td>\n",
       "      <td>-3</td>\n",
       "      <td>-1</td>\n",
       "      <td>-1</td>\n",
       "      <td>-5</td>\n",
       "      <td>0</td>\n",
       "      <td>0</td>\n",
       "      <td>-2</td>\n",
       "      <td>-1</td>\n",
       "      <td>-3</td>\n",
       "      <td>-2</td>\n",
       "      <td>0</td>\n",
       "      <td>6</td>\n",
       "      <td>0</td>\n",
       "      <td>0</td>\n",
       "      <td>1</td>\n",
       "      <td>0</td>\n",
       "      <td>-1</td>\n",
       "      <td>-6</td>\n",
       "      <td>-5</td>\n",
       "    </tr>\n",
       "    <tr>\n",
       "      <th>Q</th>\n",
       "      <td>0</td>\n",
       "      <td>-5</td>\n",
       "      <td>2</td>\n",
       "      <td>2</td>\n",
       "      <td>-5</td>\n",
       "      <td>-1</td>\n",
       "      <td>3</td>\n",
       "      <td>-2</td>\n",
       "      <td>1</td>\n",
       "      <td>-2</td>\n",
       "      <td>-1</td>\n",
       "      <td>1</td>\n",
       "      <td>0</td>\n",
       "      <td>4</td>\n",
       "      <td>1</td>\n",
       "      <td>-1</td>\n",
       "      <td>-1</td>\n",
       "      <td>-2</td>\n",
       "      <td>-5</td>\n",
       "      <td>-4</td>\n",
       "    </tr>\n",
       "    <tr>\n",
       "      <th>R</th>\n",
       "      <td>-2</td>\n",
       "      <td>-4</td>\n",
       "      <td>-1</td>\n",
       "      <td>-1</td>\n",
       "      <td>-4</td>\n",
       "      <td>-3</td>\n",
       "      <td>2</td>\n",
       "      <td>-2</td>\n",
       "      <td>3</td>\n",
       "      <td>-3</td>\n",
       "      <td>0</td>\n",
       "      <td>0</td>\n",
       "      <td>0</td>\n",
       "      <td>1</td>\n",
       "      <td>6</td>\n",
       "      <td>0</td>\n",
       "      <td>-1</td>\n",
       "      <td>-2</td>\n",
       "      <td>2</td>\n",
       "      <td>-4</td>\n",
       "    </tr>\n",
       "    <tr>\n",
       "      <th>S</th>\n",
       "      <td>1</td>\n",
       "      <td>0</td>\n",
       "      <td>0</td>\n",
       "      <td>0</td>\n",
       "      <td>-3</td>\n",
       "      <td>1</td>\n",
       "      <td>-1</td>\n",
       "      <td>-1</td>\n",
       "      <td>0</td>\n",
       "      <td>-3</td>\n",
       "      <td>-2</td>\n",
       "      <td>1</td>\n",
       "      <td>1</td>\n",
       "      <td>-1</td>\n",
       "      <td>0</td>\n",
       "      <td>2</td>\n",
       "      <td>1</td>\n",
       "      <td>-1</td>\n",
       "      <td>-2</td>\n",
       "      <td>-3</td>\n",
       "    </tr>\n",
       "    <tr>\n",
       "      <th>T</th>\n",
       "      <td>1</td>\n",
       "      <td>-2</td>\n",
       "      <td>0</td>\n",
       "      <td>0</td>\n",
       "      <td>-3</td>\n",
       "      <td>0</td>\n",
       "      <td>-1</td>\n",
       "      <td>0</td>\n",
       "      <td>0</td>\n",
       "      <td>-2</td>\n",
       "      <td>-1</td>\n",
       "      <td>0</td>\n",
       "      <td>0</td>\n",
       "      <td>-1</td>\n",
       "      <td>-1</td>\n",
       "      <td>1</td>\n",
       "      <td>3</td>\n",
       "      <td>0</td>\n",
       "      <td>-5</td>\n",
       "      <td>-3</td>\n",
       "    </tr>\n",
       "    <tr>\n",
       "      <th>V</th>\n",
       "      <td>0</td>\n",
       "      <td>-2</td>\n",
       "      <td>-2</td>\n",
       "      <td>-2</td>\n",
       "      <td>-1</td>\n",
       "      <td>-1</td>\n",
       "      <td>-2</td>\n",
       "      <td>4</td>\n",
       "      <td>-2</td>\n",
       "      <td>2</td>\n",
       "      <td>2</td>\n",
       "      <td>-2</td>\n",
       "      <td>-1</td>\n",
       "      <td>-2</td>\n",
       "      <td>-2</td>\n",
       "      <td>-1</td>\n",
       "      <td>0</td>\n",
       "      <td>4</td>\n",
       "      <td>-6</td>\n",
       "      <td>-2</td>\n",
       "    </tr>\n",
       "    <tr>\n",
       "      <th>W</th>\n",
       "      <td>-6</td>\n",
       "      <td>-8</td>\n",
       "      <td>-7</td>\n",
       "      <td>-7</td>\n",
       "      <td>0</td>\n",
       "      <td>-7</td>\n",
       "      <td>-3</td>\n",
       "      <td>-5</td>\n",
       "      <td>-3</td>\n",
       "      <td>-2</td>\n",
       "      <td>-4</td>\n",
       "      <td>-4</td>\n",
       "      <td>-6</td>\n",
       "      <td>-5</td>\n",
       "      <td>2</td>\n",
       "      <td>-2</td>\n",
       "      <td>-5</td>\n",
       "      <td>-6</td>\n",
       "      <td>17</td>\n",
       "      <td>0</td>\n",
       "    </tr>\n",
       "    <tr>\n",
       "      <th>Y</th>\n",
       "      <td>-3</td>\n",
       "      <td>0</td>\n",
       "      <td>-4</td>\n",
       "      <td>-4</td>\n",
       "      <td>7</td>\n",
       "      <td>-5</td>\n",
       "      <td>0</td>\n",
       "      <td>-1</td>\n",
       "      <td>-4</td>\n",
       "      <td>-1</td>\n",
       "      <td>-2</td>\n",
       "      <td>-2</td>\n",
       "      <td>-5</td>\n",
       "      <td>-4</td>\n",
       "      <td>-4</td>\n",
       "      <td>-3</td>\n",
       "      <td>-3</td>\n",
       "      <td>-2</td>\n",
       "      <td>0</td>\n",
       "      <td>10</td>\n",
       "    </tr>\n",
       "  </tbody>\n",
       "</table>\n",
       "</div>"
      ],
      "text/plain": [
       "   A   C  D  E  F  G  H  I  K  L  M  N  P  Q  R  S  T  V   W   Y\n",
       "A  2  -2  0  0 -3  1 -1 -1 -1 -2 -1  0  1  0 -2  1  1  0  -6  -3\n",
       "C -2  12 -5 -5 -4 -3 -3 -2 -5 -6 -5 -4 -3 -5 -4  0 -2 -2  -8   0\n",
       "D  0  -5  4  3 -6  1  1 -2  0 -4 -3  2 -1  2 -1  0  0 -2  -7  -4\n",
       "E  0  -5  3  4 -5  0  1 -2  0 -3 -2  1 -1  2 -1  0  0 -2  -7  -4\n",
       "F -3  -4 -6 -5  9 -5 -2  1 -5  2  0 -3 -5 -5 -4 -3 -3 -1   0   7\n",
       "G  1  -3  1  0 -5  5 -2 -3 -2 -4 -3  0  0 -1 -3  1  0 -1  -7  -5\n",
       "H -1  -3  1  1 -2 -2  6 -2  0 -2 -2  2  0  3  2 -1 -1 -2  -3   0\n",
       "I -1  -2 -2 -2  1 -3 -2  5 -2  2  2 -2 -2 -2 -2 -1  0  4  -5  -1\n",
       "K -1  -5  0  0 -5 -2  0 -2  5 -3  0  1 -1  1  3  0  0 -2  -3  -4\n",
       "L -2  -6 -4 -3  2 -4 -2  2 -3  6  4 -3 -3 -2 -3 -3 -2  2  -2  -1\n",
       "M -1  -5 -3 -2  0 -3 -2  2  0  4  6 -2 -2 -1  0 -2 -1  2  -4  -2\n",
       "N  0  -4  2  1 -3  0  2 -2  1 -3 -2  2  0  1  0  1  0 -2  -4  -2\n",
       "P  1  -3 -1 -1 -5  0  0 -2 -1 -3 -2  0  6  0  0  1  0 -1  -6  -5\n",
       "Q  0  -5  2  2 -5 -1  3 -2  1 -2 -1  1  0  4  1 -1 -1 -2  -5  -4\n",
       "R -2  -4 -1 -1 -4 -3  2 -2  3 -3  0  0  0  1  6  0 -1 -2   2  -4\n",
       "S  1   0  0  0 -3  1 -1 -1  0 -3 -2  1  1 -1  0  2  1 -1  -2  -3\n",
       "T  1  -2  0  0 -3  0 -1  0  0 -2 -1  0  0 -1 -1  1  3  0  -5  -3\n",
       "V  0  -2 -2 -2 -1 -1 -2  4 -2  2  2 -2 -1 -2 -2 -1  0  4  -6  -2\n",
       "W -6  -8 -7 -7  0 -7 -3 -5 -3 -2 -4 -4 -6 -5  2 -2 -5 -6  17   0\n",
       "Y -3   0 -4 -4  7 -5  0 -1 -4 -1 -2 -2 -5 -4 -4 -3 -3 -2   0  10"
      ]
     },
     "execution_count": 227,
     "metadata": {},
     "output_type": "execute_result"
    }
   ],
   "source": [
    "import pandas as pd\n",
    "import numpy as np\n",
    "myfile= open(\"PAM250.txt\", \"r\")\n",
    "c=1\n",
    "cr_names=[]\n",
    "scores=[]\n",
    "for line in myfile:\n",
    "    if c==2:\n",
    "        st=line.strip().replace('  ',' ')\n",
    "        scores=scores+st.split(' ')[1:]\n",
    "    if c==1:\n",
    "        cr_names=line.strip().split('  ')\n",
    "        c=2\n",
    "for i in range(len(scores)):\n",
    "    scores[i]=int(scores[i])\n",
    "scores_mat=matrix = np.reshape(scores, (20, 20))\n",
    "scores_mat=pd.DataFrame(scores_mat, columns=cr_names, index=cr_names)\n",
    "scores_mat"
   ]
  },
  {
   "cell_type": "code",
   "execution_count": 230,
   "metadata": {},
   "outputs": [],
   "source": [
    "def LCSBackTrack(v, w):\n",
    "    array=np.zeros(((len(v)+1),(len(w)+1)))\n",
    "    Backtrack=np.zeros(((len(v)+1),(len(w)+1)))\n",
    "    for i in range (0,len(v)+1):\n",
    "        array[i,0]=0-i*5\n",
    "    for j in range (0,len(w)+1):\n",
    "        array[0,j]=0-j*5\n",
    "    for i in range (1,len(v)+1):\n",
    "        for j in range(1,len(w)+1):\n",
    "            match=scores_mat[v[i-1]][w[j-1]]\n",
    "            array[i,j]=max(array[i-1,j]-5,array[i,j-1]-5,array[i-1,j-1]+match,0)\n",
    "            if array[i,j]==array[i-1,j]-5:\n",
    "                Backtrack[i,j]=1\n",
    "            elif array[i,j]==array[i,j-1]-5:\n",
    "                Backtrack[i,j]=2\n",
    "            elif array[i,j]==array[i-1,j-1]+match:\n",
    "                Backtrack[i,j]=3\n",
    "    return Backtrack,array"
   ]
  },
  {
   "cell_type": "code",
   "execution_count": 253,
   "metadata": {},
   "outputs": [
    {
     "name": "stdout",
     "output_type": "stream",
     "text": [
      "[[0. 0. 0. ... 0. 0. 0.]\n",
      " [0. 0. 0. ... 0. 0. 0.]\n",
      " [0. 0. 3. ... 3. 0. 0.]\n",
      " ...\n",
      " [0. 0. 3. ... 1. 1. 1.]\n",
      " [0. 0. 3. ... 1. 3. 1.]\n",
      " [0. 0. 3. ... 3. 1. 3.]]\n",
      "[[ 0.000e+00 -5.000e+00 -1.000e+01 ... -4.445e+03 -4.450e+03 -4.455e+03]\n",
      " [-5.000e+00  0.000e+00  0.000e+00 ...  0.000e+00  0.000e+00  0.000e+00]\n",
      " [-1.000e+01  0.000e+00  1.000e+00 ...  2.000e+00  0.000e+00  0.000e+00]\n",
      " ...\n",
      " [-4.490e+03  0.000e+00  0.000e+00 ...  1.158e+03  1.159e+03  1.166e+03]\n",
      " [-4.495e+03  0.000e+00  0.000e+00 ...  1.153e+03  1.158e+03  1.161e+03]\n",
      " [-4.500e+03  0.000e+00  0.000e+00 ...  1.149e+03  1.153e+03  1.160e+03]]\n"
     ]
    }
   ],
   "source": [
    "myfile= open(\"dataset_240305_10.txt\", \"r\")\n",
    "c=1\n",
    "v=''\n",
    "w=''\n",
    "for line in myfile:\n",
    "    if c==1:\n",
    "        v=line.strip()\n",
    "        c=2\n",
    "    if c==2:\n",
    "        w=line.strip()\n",
    "backtrack,lengths=LCSBackTrack(v,w)\n",
    "print(backtrack)\n",
    "print(lengths)"
   ]
  },
  {
   "cell_type": "code",
   "execution_count": 254,
   "metadata": {},
   "outputs": [
    {
     "name": "stdout",
     "output_type": "stream",
     "text": [
      "1176.0\n",
      "(array([894]), array([889]))\n"
     ]
    }
   ],
   "source": [
    "maxElement = np.amax(lengths)\n",
    "result = np.where(lengths == np.amax(lengths))\n",
    "print(maxElement)\n",
    "print(result)"
   ]
  },
  {
   "cell_type": "code",
   "execution_count": 255,
   "metadata": {},
   "outputs": [
    {
     "data": {
      "text/plain": [
       "('NNWHLLIGSLCHHCQY-YTCS--EAHKQFEVTG-YMTVGGTVC-WREGFW-G-DNTDKSFKL--CEHVTWSLLPTC-DK-PMKAVE--DVEI-DS-RAVGTIQPRETLM-RAHYTTCMRSYLIFEDHDIEGQAD-DFRWGAKVAYE-QLYWFDNYSCQIMCEWLIQMMYAFRPGKDYFTAWAYHHNDYNKPFIHCWEN-EWDSDEEHPNIDLTFCQFRCPKSRECINKAAGSTAFNLIPWDNHFVPPKFFPHHETFIVTWQ--LLHCSGDA--GRIS--WELTQMIFNHPYQYGRSQANRTGVCNSVTSNFIMTSRHGMDFIYYTLNWPISPWVHKPLELWNVQNSCEYATCEECRVHCMKNIDPDRTAGDAPSYEKVDSPAFYVDVCKANKKIYAASLCKFN-LF-IGQTADHNYAW--Q-MP---FITFQHNQRQCWND-WCITVAQEYHAWPMWNYDRVGWWARIRPDGIDERYKQSTIYIVETPCEYQCTTCSVEGKYTATWRQMALNWMM-KHE-PC---KAKFERLWSTQEMELCGP---MM----KRNITVMRFGHSCCPKEGVQYF--GE---RCRSLYCMCHSFKENPLFFMKSHLQTTHGDYWHFFTWS-GHSWDN-----LMA-H--S-SYQCKAQIEANLVVW--CAQAFQRQEAIEAIW-QMAT-FL-GHLSLMS-YKMYMVHPYAHSNE-SFFHSEFANY-MDDLDPATQYVY-GW-LCCFRLGANQGLIPGSMYQ-PIMLIHSVMWGCCDATC-SCKG--TLAWLQPKNLCFPIW-CK-EQ-KSQK-DGYKA-FALIKS-WMCVL-RYTLVFTMHCYYMIDF-LITEQERDPIKECPCW-L-MPEGKASIIIQ-NPRESIRF-VEY-DSIR-WRPYELELTH-MSPRMNKMW-YMRHKF-NEEFGGFTPGYKYDACFNRLVYFYIKKWSSGFARGTPTSQTNGEEGRCDSCHFGQPDMGD-FHEAMQHWKH',\n",
       " 'SGWGG-PPSHCKQGESEITCSTRDGARILWMLGKTMTRRNH-CDSQAPLWWHIENINVNW-LGDCMEIN-SK-DHCKGMLGVKSPEEFDPEVCGPNQPIHPKDPRASLLYR-RFAD-PHIWNV-NMSQIRSDIEWEERW--KLFYNPDVFTSGG-PANRLDSW-SRVM-RI-AADGC-VS--YIEIGVPRQQVYVWAECQYMCPEEM-N-Q-KW--FE-EEVPVC-SMIFRSKQMDPCSWTSCLLP--F-NALKGMAGIWEGWLL-CSGDNHMPQTGNNWELTQMIFYHPYQYGRSQANRTGVCNSVTSNFIMT--HGMDFIYYTLEWPESPWVHET-A-WNVQNSCEYATCEECRVHCMKN-H-E-IA-D-PDREKVDSPAFYVDVCKANKKIEAASLGQTHCWWWVG-GHDHGLIRMCQVLAQMWFITFQHNQRQCHNDFW-ITVAQEYH-WN-YSFERVGWWAHV---------K--T------PCEYQCTTCS--ATW-AD-RDNGMQQMMPEHEYGCQTAKAKFERLISTQPMELCGPKQNLLWSDDKRNITVM---HSCFPKEGVQYFLFASSSWRCRFLYCMCHSFFCD-LHH-NS-V-TTHG--WYFFTWDIGHSWDNTQEAPMMSDHIKTGSYQCKAQI---LVVWVMCI--FQIQ-AF--MWYHLGDWFAWNYFHWHPIHKEWF-N-YTWCSRMRSPKGDLTHHCLI-MKEGTQSDSQEWAMHKYDYD-NH-LW--N-YRLSVRVNIGIM-DH-EPTTFECPGDYSLVKVNPR-V-Y--WDVRLVLFKGQRGQGLPAMFPLEHTQRHYDLWRWCEC-A-HPIFNVAVHLPIENSWPPTGTVPYWHVFMCNAMNHELAETDGTAVIMYAINLLRNFRPWKN-QNRVKHYVTPEFPLQWGFI---FISTQ-GPITV-Y-CMAQFNKGP---VNHW---LATD-P--HGYALEAQIDV--IGQS-IEQMFH-FLD-WHH')"
      ]
     },
     "execution_count": 255,
     "metadata": {},
     "output_type": "execute_result"
    }
   ],
   "source": [
    "def OutputLCS(backtrack, v, w, i, j):\n",
    "    if backtrack[i,j]==0:\n",
    "        return ('','')\n",
    "    if backtrack[i,j]==1:\n",
    "        reta,retb = OutputLCS(backtrack, v, w,i - 1, j)\n",
    "        return (reta+ v[i-1],retb+ '-')\n",
    "    elif backtrack[i,j]==2:\n",
    "        reta,retb = OutputLCS(backtrack, v, w,i, j - 1)\n",
    "        return (reta+ '-',retb+ w[j-1])\n",
    "    elif backtrack[i,j]==3:\n",
    "        reta,retb = OutputLCS(backtrack, v, w,i - 1, j - 1) \n",
    "        return (reta+ v[i-1],retb+ w[j-1])\n",
    "\n",
    "OutputLCS(backtrack, v, w,894, 889)"
   ]
  },
  {
   "cell_type": "code",
   "execution_count": 217,
   "metadata": {},
   "outputs": [],
   "source": [
    "#5.11.1"
   ]
  },
  {
   "cell_type": "code",
   "execution_count": 75,
   "metadata": {},
   "outputs": [],
   "source": [
    "# A Dynamic Programming based Python program for edit \n",
    "# distance problem \n",
    "def editDistDP(str1, str2, m, n): \n",
    "    # Create a table to store results of subproblems \n",
    "    dp = [[0 for x in range(n + 1)] for x in range(m + 1)] \n",
    "  \n",
    "    # Fill d[][] in bottom up manner \n",
    "    for i in range(m + 1): \n",
    "        for j in range(n + 1): \n",
    "  \n",
    "            # If first string is empty, only option is to \n",
    "            # insert all characters of second string \n",
    "            if i == 0: \n",
    "                dp[i][j] = j    # Min. operations = j \n",
    "  \n",
    "            # If second string is empty, only option is to \n",
    "            # remove all characters of second string \n",
    "            elif j == 0: \n",
    "                dp[i][j] = i    # Min. operations = i \n",
    "  \n",
    "            # If last characters are same, ignore last char \n",
    "            # and recur for remaining string \n",
    "            elif str1[i-1] == str2[j-1]: \n",
    "                dp[i][j] = dp[i-1][j-1] \n",
    "  \n",
    "            # If last character are different, consider all \n",
    "            # possibilities and find minimum \n",
    "            else: \n",
    "                dp[i][j] = 1 + min(dp[i][j-1],        # Insert \n",
    "                                   dp[i-1][j],        # Remove \n",
    "                                   dp[i-1][j-1])    # Replace \n",
    "  \n",
    "    return dp[m][n] "
   ]
  },
  {
   "cell_type": "code",
   "execution_count": 76,
   "metadata": {},
   "outputs": [
    {
     "data": {
      "text/plain": [
       "True"
      ]
     },
     "execution_count": 76,
     "metadata": {},
     "output_type": "execute_result"
    }
   ],
   "source": [
    "myfile= open(\"dataset_240306_3.txt\", \"r\")\n",
    "str1=''\n",
    "str2=''\n",
    "c=1\n",
    "for line in myfile:\n",
    "    if c==1:\n",
    "        str1=line.strip()\n",
    "        c=2\n",
    "    if c==2:\n",
    "        str2=line.strip()\n",
    "len(str1)>len(str2)"
   ]
  },
  {
   "cell_type": "code",
   "execution_count": 77,
   "metadata": {},
   "outputs": [
    {
     "data": {
      "text/plain": [
       "355"
      ]
     },
     "execution_count": 77,
     "metadata": {},
     "output_type": "execute_result"
    }
   ],
   "source": [
    "editDistDP(str1, str2, len(str1), len(str2))"
   ]
  },
  {
   "cell_type": "code",
   "execution_count": 186,
   "metadata": {},
   "outputs": [],
   "source": [
    "#5.11.2"
   ]
  },
  {
   "cell_type": "code",
   "execution_count": 282,
   "metadata": {},
   "outputs": [],
   "source": [
    "def LCSBackTrack(v, w):\n",
    "    array=np.zeros(((len(v)+1),(len(w)+1)))\n",
    "    Backtrack=np.zeros(((len(v)+1),(len(w)+1)))\n",
    "    for i in range (0,len(v)+1):\n",
    "        array[i,0]=0-i\n",
    "    for i in range (1,len(v)+1):\n",
    "        for j in range(1,len(w)+1):\n",
    "            match=-1\n",
    "            if v[i-1]==w[j-1]:\n",
    "                match=1\n",
    "            array[i,j]=max(array[i-1,j]-1,array[i,j-1]-1,array[i-1,j-1]+match)\n",
    "            if array[i,j]==array[i-1,j]-1:\n",
    "                Backtrack[i,j]=1\n",
    "            elif array[i,j]==array[i,j-1]-1:\n",
    "                Backtrack[i,j]=2\n",
    "            elif array[i,j]==array[i-1,j-1]+match:\n",
    "                Backtrack[i,j]=3\n",
    "    return Backtrack,array"
   ]
  },
  {
   "cell_type": "code",
   "execution_count": 283,
   "metadata": {},
   "outputs": [
    {
     "name": "stdout",
     "output_type": "stream",
     "text": [
      "[[0. 0. 0. ... 0. 0. 0.]\n",
      " [0. 3. 2. ... 1. 1. 1.]\n",
      " [0. 1. 3. ... 3. 2. 1.]\n",
      " ...\n",
      " [0. 1. 1. ... 1. 1. 1.]\n",
      " [0. 1. 1. ... 1. 1. 1.]\n",
      " [0. 1. 1. ... 1. 1. 1.]]\n",
      "[[  0.   0.   0. ...   0.   0.   0.]\n",
      " [ -1.   1.   0. ...  -1.  -1.  -1.]\n",
      " [ -2.   0.   2. ...   0.  -1.  -2.]\n",
      " ...\n",
      " [-80. -78. -76. ...   3.   4.   6.]\n",
      " [-81. -79. -77. ...   2.   3.   5.]\n",
      " [-82. -80. -78. ...   1.   2.   4.]]\n"
     ]
    }
   ],
   "source": [
    "myfile= open(\"dataset_240306_5.txt\", \"r\")\n",
    "c=1\n",
    "v=''\n",
    "w=''\n",
    "for line in myfile:\n",
    "    if c==1:\n",
    "        v=line.strip()\n",
    "        c=2\n",
    "    if c==2:\n",
    "        w=line.strip()\n",
    "backtrack,array=LCSBackTrack(w,v)\n",
    "print(backtrack)\n",
    "print(array)"
   ]
  },
  {
   "cell_type": "code",
   "execution_count": 284,
   "metadata": {},
   "outputs": [
    {
     "name": "stdout",
     "output_type": "stream",
     "text": [
      "16.0\n"
     ]
    },
    {
     "data": {
      "text/plain": [
       "(array([912]),)"
      ]
     },
     "execution_count": 284,
     "metadata": {},
     "output_type": "execute_result"
    }
   ],
   "source": [
    "maxElement = max(array[len(w)])\n",
    "result = np.where(array[len(w)]==maxElement)\n",
    "print(maxElement)\n",
    "result"
   ]
  },
  {
   "cell_type": "code",
   "execution_count": 280,
   "metadata": {},
   "outputs": [],
   "source": [
    "def OutputLCS(backtrack, v, w, i, j):\n",
    "    if i==0 or j==0:\n",
    "        return ('','')\n",
    "    if backtrack[i,j]==1:\n",
    "        reta,retb = OutputLCS(backtrack, v, w,i - 1, j)\n",
    "        return (reta+ v[i-1],retb+ '-')\n",
    "    elif backtrack[i,j]==2:\n",
    "        reta,retb = OutputLCS(backtrack, v, w,i, j - 1)\n",
    "        return (reta+ '-',retb+ w[j-1])\n",
    "    elif backtrack[i,j]==3:\n",
    "        reta,retb = OutputLCS(backtrack, v, w,i - 1, j - 1) \n",
    "        return (reta+ v[i-1],retb+ w[j-1])"
   ]
  },
  {
   "cell_type": "code",
   "execution_count": 285,
   "metadata": {},
   "outputs": [
    {
     "data": {
      "text/plain": [
       "('TCACATGCCAA--CCTGGCCTTT-A-ACAGCTCATTTTGG-TCCTATTGC--GCATACTG-TT--GCTACAAAGGCCAACTACGTCGTATTT',\n",
       " 'TCACAAGCCATTTCCTGGACAGTCATAC-GC-CGC---GGCTCTTATTTCCTG-ATAATGGTTATG-TCCACTG-CTA--TACCTT-TATAT')"
      ]
     },
     "execution_count": 285,
     "metadata": {},
     "output_type": "execute_result"
    }
   ],
   "source": [
    "OutputLCS(backtrack, w, v, len(w), 912)"
   ]
  },
  {
   "cell_type": "code",
   "execution_count": 187,
   "metadata": {},
   "outputs": [],
   "source": [
    "#5.12"
   ]
  },
  {
   "cell_type": "code",
   "execution_count": 204,
   "metadata": {},
   "outputs": [],
   "source": [
    "def LCSBackTrack(v, w):\n",
    "    array=np.zeros(((len(v)+1),(len(w)+1)))\n",
    "    Backtrack=np.zeros(((len(v)+1),(len(w)+1)))\n",
    "    for i in range (0,len(v)+1):\n",
    "        if i==0:\n",
    "            array[i,0]=0\n",
    "        elif i==1:\n",
    "            array[i,0]=0-11\n",
    "        else:\n",
    "            array[i,0]=0-11-(i-1)\n",
    "    for j in range (0,len(w)+1):\n",
    "        if j==0:\n",
    "            array[0,j]=0\n",
    "        elif j==1:\n",
    "            array[0,j]=0-11\n",
    "        else:\n",
    "            array[0,j]=0-11-(j-1)\n",
    "    for i in range (1,len(v)+1):\n",
    "        for j in range(1,len(w)+1):\n",
    "            match=scores_mat[v[i-1]][w[j-1]]\n",
    "            downPenal=11\n",
    "            if Backtrack[i-1,j]==1:\n",
    "                downPenal=1\n",
    "            rightPenal=11\n",
    "            if Backtrack[i,j-1]==2:\n",
    "                rightPenal=1\n",
    "            array[i,j]=max(array[i-1,j]-downPenal,array[i,j-1]-rightPenal,array[i-1,j-1]+match)\n",
    "            if array[i,j]==array[i-1,j]-downPenal:\n",
    "                Backtrack[i,j]=1\n",
    "            elif array[i,j]==array[i,j-1]-rightPenal:\n",
    "                Backtrack[i,j]=2\n",
    "            elif array[i,j]==array[i-1,j-1]+match:\n",
    "                Backtrack[i,j]=3\n",
    "    print(array)\n",
    "    return Backtrack"
   ]
  },
  {
   "cell_type": "code",
   "execution_count": 210,
   "metadata": {},
   "outputs": [
    {
     "name": "stdout",
     "output_type": "stream",
     "text": [
      "[[  0. -11. -12. ... -87. -88. -89.]\n",
      " [-11.   6.  -5. ... -80. -81. -82.]\n",
      " [-12.  -5.  14. ... -71. -72. -73.]\n",
      " ...\n",
      " [-81. -74. -65. ... 332. 321. 320.]\n",
      " [-82. -75. -66. ... 321. 338. 327.]\n",
      " [-83. -76. -67. ... 320. 327. 342.]]\n"
     ]
    },
    {
     "data": {
      "text/plain": [
       "array([[0., 0., 0., ..., 0., 0., 0.],\n",
       "       [0., 3., 2., ..., 2., 2., 2.],\n",
       "       [0., 1., 3., ..., 2., 2., 2.],\n",
       "       ...,\n",
       "       [0., 1., 1., ..., 3., 2., 2.],\n",
       "       [0., 1., 1., ..., 1., 3., 2.],\n",
       "       [0., 1., 1., ..., 1., 1., 3.]])"
      ]
     },
     "execution_count": 210,
     "metadata": {},
     "output_type": "execute_result"
    }
   ],
   "source": [
    "myfile= open(\"dataset_240307_8.txt\", \"r\")\n",
    "c=1\n",
    "v=''\n",
    "w=''\n",
    "for line in myfile:\n",
    "    if c==1:\n",
    "        v=line.strip()\n",
    "        c=2\n",
    "    if c==2:\n",
    "        w=line.strip()\n",
    "backtrack=LCSBackTrack(v,w)\n",
    "backtrack"
   ]
  },
  {
   "cell_type": "code",
   "execution_count": 207,
   "metadata": {},
   "outputs": [],
   "source": [
    "def OutputLCS(backtrack, v, w, i, j):\n",
    "    if i==0 or j==0:\n",
    "        return ('','')\n",
    "    if backtrack[i,j]==1:\n",
    "        reta,retb = OutputLCS(backtrack, v, w,i - 1, j)\n",
    "        return (reta+ v[i-1],retb+ '-')\n",
    "    elif backtrack[i,j]==2:\n",
    "        reta,retb = OutputLCS(backtrack, v, w,i, j - 1)\n",
    "        return (reta+ '-',retb+ w[j-1])\n",
    "    elif backtrack[i,j]==3:\n",
    "        reta,retb = OutputLCS(backtrack, v, w,i - 1, j - 1) \n",
    "        return (reta+ v[i-1],retb+ w[j-1])"
   ]
  },
  {
   "cell_type": "code",
   "execution_count": 211,
   "metadata": {},
   "outputs": [
    {
     "data": {
      "text/plain": [
       "('GHFPYQSMGKYLYNKNEP----RGSLMNTIAWAEETCYAYLRSWFVGWMFIIQWAGACLGFK---NGAIWWLCPYGKNDV',\n",
       " 'GHFPYQSMGKYLYNSNEPVICGPRCPMNTIAWAEECCYAYLRSWFVGWMFILQWAG-CLGFKDMINGAIWWLCDYGKNDV')"
      ]
     },
     "execution_count": 211,
     "metadata": {},
     "output_type": "execute_result"
    }
   ],
   "source": [
    "OutputLCS(backtrack, v, w,len(v), len(w))"
   ]
  },
  {
   "cell_type": "code",
   "execution_count": 251,
   "metadata": {},
   "outputs": [
    {
     "data": {
      "text/plain": [
       "874"
      ]
     },
     "execution_count": 251,
     "metadata": {},
     "output_type": "execute_result"
    }
   ],
   "source": [
    "len('Y-P-MSRKTAKSQFIEWCDW-F--CFNHWTNWAPLSIVRTSVAFAV-W-GHCWYPCG-GVCKTNRCKDD-FCGRWRKALFAEGPRDWKCCKNDLQNWNPQYSQGTR--NTK-RMVATTNQTMIEWKQSHIFETW-LF-CHVIIEYNWSAF-W-MWMNRNEAFNSIIKSGYPKLLL-T-QY-P-L-SQG--STPIVKPL-IRRD-QGKFW-A-WAQMWWFREPT-NIPTA-D-Y-CHSW--WQ--SR-ADLQ-NDRDMGP-EADASFYVEFWYWVRCAARTYGQQLGIIWNNRLKTRNPCPYSADGIQNKENYVFWWKNMCTKSHIAFYYCLQNVAHYTHDVTAEFNPVKCIDWLQGHMVLSSWFKYNTECKKLFVHEKCECYRM----FCGV---VEDIFGVRFH--TGWKHLSTAKPVPHVCVYNPSVQERRNINDFYIF-YEIAPAVKNLVLSAQPLHDYTKKCAFNYTPITITRIISTRNQIIW-AHVVIACQFYSPHQMLLIELAMDKYCADMNVRRSTEGHQPMHACRSTFGPGMAAKEPLVTFTLVAFWQWPNHEFQYVYMYTED-KIIQIG-PHLSN-GCEMVEYCVDC-YAK-RPCYRAYSAEAQYWRMITEAEDYSYKTRNAIAATATVRGQ-YCHPFRWLGIVWM-AHHDC-FFANECGTICI-PQMAEMRPPETTPYEI--DIIFMMF-WKE--HMSTTIL-DVVGMYRP-ATFSHWHDAHH-QCEPYLTPL-MCQSKLVFDAAFT--QVG-VKGVW-YHTEKLELMAGFNHM-K-FKKEEAQ---QSCFYWFQDCPDYDPPDAVRKTDEKHIRAHGEIWWLMRYYCMYHILHI-ASRHEWMHLRWDQACTNPGY--ELFE-F')"
   ]
  },
  {
   "cell_type": "code",
   "execution_count": 252,
   "metadata": {},
   "outputs": [
    {
     "data": {
      "text/plain": [
       "877"
      ]
     },
     "execution_count": 252,
     "metadata": {},
     "output_type": "execute_result"
    }
   ],
   "source": [
    "len('GLEY-P-MSRKTAKSQFIEWCDW-F--CFNHWTNWAPLSIVRTSVAFAV-W-GHCWYPCG-GVCKTNRCKDD-FCGRWRKALFAEGPRDWKCCKNDLQNWNPQYSQGTR--NTK-RMVATTNQTMIEWKQSHIFETW-LF-CHVIIEYNWSAF-W-MWMNRNEAFNSIIKSGYPKLLL-T-QY-P-L-SQG--STPIVKPL-IRRD-QGKFW-A-WAQMWWFREPT-NIPTA-D-Y-CHSW--WQ--SR-ADLQ-NDRDMGP-EADASFYVEFWYWVRCAARTYGQQLGIIWNNRLKTRNPCPYSADGIQNKENYVFWWKNMCTKSHIAFYYCLQNVAHYTHDVTAEFNPVKCIDWLQGHMVLSSWFKYNTECKKLFVHEKCECYRM----FCGV---VEDIFGVRFH--TGWKHLSTAKPVPHVCVYNPSVQERRNINDFYIF-YEIAPAVKNLVLSAQPLHDYTKKCAFNYTPITITRIISTRNQIIW-AHVVIACQFYSPHQMLLIELAMDKYCADMNVRRSTEGHQPMHACRSTFGPGMAAKEPLVTFTLVAFWQWPNHEFQYVYMYTED-KIIQIG-PHLSN-GCEMVEYCVDC-YAK-RPCYRAYSAEAQYWRMITEAEDYSYKTRNAIAATATVRGQ-YCHPFRWLGIVWM-AHHDC-FFANECGTICI-PQMAEMRPPETTPYEI--DIIFMMF-WKE--HMSTTIL-DVVGMYRP-ATFSHWHDAHH-QCEPYLTPL-MCQSKLVFDAAFT--QVG-VKGVW-YHTEKLELMAGFNHM-K-FKKEEAQ---QSCFYWFQDCPDYDPPDAVRKTDEKHIRAHGEIWWLMRYYCMYHILHI-ASRHEWMHLRWDQACTNPGY--ELFE-F')"
   ]
  },
  {
   "cell_type": "code",
   "execution_count": 1,
   "metadata": {},
   "outputs": [
    {
     "name": "stdout",
     "output_type": "stream",
     "text": [
      "300001\n"
     ]
    }
   ],
   "source": [
    "myfile= open(\"reads_hw2undergrad_E_2_chr_1.txt\", \"r\")\n",
    "count=0\n",
    "for line in myfile:\n",
    "    count+=1\n",
    "print(count)"
   ]
  },
  {
   "cell_type": "code",
   "execution_count": null,
   "metadata": {},
   "outputs": [],
   "source": []
  }
 ],
 "metadata": {
  "kernelspec": {
   "display_name": "Python 3",
   "language": "python",
   "name": "python3"
  },
  "language_info": {
   "codemirror_mode": {
    "name": "ipython",
    "version": 3
   },
   "file_extension": ".py",
   "mimetype": "text/x-python",
   "name": "python",
   "nbconvert_exporter": "python",
   "pygments_lexer": "ipython3",
   "version": "3.7.3"
  }
 },
 "nbformat": 4,
 "nbformat_minor": 4
}
